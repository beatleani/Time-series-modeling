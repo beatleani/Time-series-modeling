{
 "cells": [
  {
   "cell_type": "code",
   "execution_count": 1,
   "metadata": {},
   "outputs": [],
   "source": [
    "import numpy as np\n",
    "import pandas as pd\n",
    "import matplotlib.pyplot as plt\n",
    "%matplotlib inline"
   ]
  },
  {
   "cell_type": "code",
   "execution_count": 3,
   "metadata": {},
   "outputs": [],
   "source": [
    "df = pd.read_excel(\"indicator8_2014_1.xlsx\")"
   ]
  },
  {
   "cell_type": "code",
   "execution_count": 4,
   "metadata": {},
   "outputs": [
    {
     "data": {
      "text/html": [
       "<div>\n",
       "<style scoped>\n",
       "    .dataframe tbody tr th:only-of-type {\n",
       "        vertical-align: middle;\n",
       "    }\n",
       "\n",
       "    .dataframe tbody tr th {\n",
       "        vertical-align: top;\n",
       "    }\n",
       "\n",
       "    .dataframe thead th {\n",
       "        text-align: right;\n",
       "    }\n",
       "</style>\n",
       "<table border=\"1\" class=\"dataframe\">\n",
       "  <thead>\n",
       "    <tr style=\"text-align: right;\">\n",
       "      <th></th>\n",
       "      <th>Average Global Temperature, 1880-2013</th>\n",
       "      <th>Unnamed: 1</th>\n",
       "      <th>Unnamed: 2</th>\n",
       "      <th>Unnamed: 3</th>\n",
       "      <th>Unnamed: 4</th>\n",
       "    </tr>\n",
       "  </thead>\n",
       "  <tbody>\n",
       "    <tr>\n",
       "      <th>0</th>\n",
       "      <td>NaN</td>\n",
       "      <td>NaN</td>\n",
       "      <td>NaN</td>\n",
       "      <td>NaN</td>\n",
       "      <td>NaN</td>\n",
       "    </tr>\n",
       "    <tr>\n",
       "      <th>1</th>\n",
       "      <td>Year</td>\n",
       "      <td>Temperature</td>\n",
       "      <td>NaN</td>\n",
       "      <td>NaN</td>\n",
       "      <td>NaN</td>\n",
       "    </tr>\n",
       "    <tr>\n",
       "      <th>2</th>\n",
       "      <td>NaN</td>\n",
       "      <td>Degrees Fahrenheit</td>\n",
       "      <td>NaN</td>\n",
       "      <td>NaN</td>\n",
       "      <td>NaN</td>\n",
       "    </tr>\n",
       "    <tr>\n",
       "      <th>3</th>\n",
       "      <td>NaN</td>\n",
       "      <td>NaN</td>\n",
       "      <td>NaN</td>\n",
       "      <td>NaN</td>\n",
       "      <td>NaN</td>\n",
       "    </tr>\n",
       "    <tr>\n",
       "      <th>4</th>\n",
       "      <td>1880</td>\n",
       "      <td>56.822</td>\n",
       "      <td>NaN</td>\n",
       "      <td>NaN</td>\n",
       "      <td>NaN</td>\n",
       "    </tr>\n",
       "  </tbody>\n",
       "</table>\n",
       "</div>"
      ],
      "text/plain": [
       "  Average Global Temperature, 1880-2013          Unnamed: 1  Unnamed: 2  \\\n",
       "0                                   NaN                 NaN         NaN   \n",
       "1                                  Year         Temperature         NaN   \n",
       "2                                   NaN  Degrees Fahrenheit         NaN   \n",
       "3                                   NaN                 NaN         NaN   \n",
       "4                                  1880              56.822         NaN   \n",
       "\n",
       "   Unnamed: 3  Unnamed: 4  \n",
       "0         NaN         NaN  \n",
       "1         NaN         NaN  \n",
       "2         NaN         NaN  \n",
       "3         NaN         NaN  \n",
       "4         NaN         NaN  "
      ]
     },
     "execution_count": 4,
     "metadata": {},
     "output_type": "execute_result"
    }
   ],
   "source": [
    "df.head()"
   ]
  },
  {
   "cell_type": "code",
   "execution_count": 5,
   "metadata": {},
   "outputs": [
    {
     "data": {
      "text/html": [
       "<div>\n",
       "<style scoped>\n",
       "    .dataframe tbody tr th:only-of-type {\n",
       "        vertical-align: middle;\n",
       "    }\n",
       "\n",
       "    .dataframe tbody tr th {\n",
       "        vertical-align: top;\n",
       "    }\n",
       "\n",
       "    .dataframe thead th {\n",
       "        text-align: right;\n",
       "    }\n",
       "</style>\n",
       "<table border=\"1\" class=\"dataframe\">\n",
       "  <thead>\n",
       "    <tr style=\"text-align: right;\">\n",
       "      <th></th>\n",
       "      <th>Average Global Temperature, 1880-2013</th>\n",
       "      <th>Unnamed: 1</th>\n",
       "      <th>Unnamed: 2</th>\n",
       "      <th>Unnamed: 3</th>\n",
       "      <th>Unnamed: 4</th>\n",
       "    </tr>\n",
       "  </thead>\n",
       "  <tbody>\n",
       "    <tr>\n",
       "      <th>136</th>\n",
       "      <td>2012</td>\n",
       "      <td>58.244</td>\n",
       "      <td>NaN</td>\n",
       "      <td>NaN</td>\n",
       "      <td>NaN</td>\n",
       "    </tr>\n",
       "    <tr>\n",
       "      <th>137</th>\n",
       "      <td>2013</td>\n",
       "      <td>58.298</td>\n",
       "      <td>NaN</td>\n",
       "      <td>NaN</td>\n",
       "      <td>NaN</td>\n",
       "    </tr>\n",
       "    <tr>\n",
       "      <th>138</th>\n",
       "      <td>NaN</td>\n",
       "      <td>NaN</td>\n",
       "      <td>NaN</td>\n",
       "      <td>NaN</td>\n",
       "      <td>NaN</td>\n",
       "    </tr>\n",
       "    <tr>\n",
       "      <th>139</th>\n",
       "      <td>Source: Compiled by Earth Policy Institute fro...</td>\n",
       "      <td>NaN</td>\n",
       "      <td>NaN</td>\n",
       "      <td>NaN</td>\n",
       "      <td>NaN</td>\n",
       "    </tr>\n",
       "    <tr>\n",
       "      <th>140</th>\n",
       "      <td>NaN</td>\n",
       "      <td>NaN</td>\n",
       "      <td>NaN</td>\n",
       "      <td>NaN</td>\n",
       "      <td>NaN</td>\n",
       "    </tr>\n",
       "  </tbody>\n",
       "</table>\n",
       "</div>"
      ],
      "text/plain": [
       "                 Average Global Temperature, 1880-2013 Unnamed: 1  Unnamed: 2  \\\n",
       "136                                               2012     58.244         NaN   \n",
       "137                                               2013     58.298         NaN   \n",
       "138                                                NaN        NaN         NaN   \n",
       "139  Source: Compiled by Earth Policy Institute fro...        NaN         NaN   \n",
       "140                                                NaN        NaN         NaN   \n",
       "\n",
       "     Unnamed: 3  Unnamed: 4  \n",
       "136         NaN         NaN  \n",
       "137         NaN         NaN  \n",
       "138         NaN         NaN  \n",
       "139         NaN         NaN  \n",
       "140         NaN         NaN  "
      ]
     },
     "execution_count": 5,
     "metadata": {},
     "output_type": "execute_result"
    }
   ],
   "source": [
    "df.tail()"
   ]
  },
  {
   "cell_type": "code",
   "execution_count": 6,
   "metadata": {},
   "outputs": [],
   "source": [
    "# Add parameters to fix various problems.\n",
    "df = pd.read_excel(\"indicator8_2014_1.xlsx\", index_col=0, usecols=\"A:B\",\n",
    "                   skiprows=4, skipfooter=3,\n",
    "                   parse_dates=True, names=[\"Date\",\"Temp\"])"
   ]
  },
  {
   "cell_type": "code",
   "execution_count": 7,
   "metadata": {},
   "outputs": [
    {
     "data": {
      "text/html": [
       "<div>\n",
       "<style scoped>\n",
       "    .dataframe tbody tr th:only-of-type {\n",
       "        vertical-align: middle;\n",
       "    }\n",
       "\n",
       "    .dataframe tbody tr th {\n",
       "        vertical-align: top;\n",
       "    }\n",
       "\n",
       "    .dataframe thead th {\n",
       "        text-align: right;\n",
       "    }\n",
       "</style>\n",
       "<table border=\"1\" class=\"dataframe\">\n",
       "  <thead>\n",
       "    <tr style=\"text-align: right;\">\n",
       "      <th></th>\n",
       "      <th>Temp</th>\n",
       "    </tr>\n",
       "    <tr>\n",
       "      <th>Date</th>\n",
       "      <th></th>\n",
       "    </tr>\n",
       "  </thead>\n",
       "  <tbody>\n",
       "    <tr>\n",
       "      <th>1880-01-01</th>\n",
       "      <td>56.822</td>\n",
       "    </tr>\n",
       "    <tr>\n",
       "      <th>1881-01-01</th>\n",
       "      <td>56.984</td>\n",
       "    </tr>\n",
       "    <tr>\n",
       "      <th>1882-01-01</th>\n",
       "      <td>56.912</td>\n",
       "    </tr>\n",
       "    <tr>\n",
       "      <th>1883-01-01</th>\n",
       "      <td>56.876</td>\n",
       "    </tr>\n",
       "    <tr>\n",
       "      <th>1884-01-01</th>\n",
       "      <td>56.732</td>\n",
       "    </tr>\n",
       "  </tbody>\n",
       "</table>\n",
       "</div>"
      ],
      "text/plain": [
       "              Temp\n",
       "Date              \n",
       "1880-01-01  56.822\n",
       "1881-01-01  56.984\n",
       "1882-01-01  56.912\n",
       "1883-01-01  56.876\n",
       "1884-01-01  56.732"
      ]
     },
     "execution_count": 7,
     "metadata": {},
     "output_type": "execute_result"
    }
   ],
   "source": [
    "df.head()"
   ]
  },
  {
   "cell_type": "code",
   "execution_count": 8,
   "metadata": {},
   "outputs": [
    {
     "data": {
      "text/html": [
       "<div>\n",
       "<style scoped>\n",
       "    .dataframe tbody tr th:only-of-type {\n",
       "        vertical-align: middle;\n",
       "    }\n",
       "\n",
       "    .dataframe tbody tr th {\n",
       "        vertical-align: top;\n",
       "    }\n",
       "\n",
       "    .dataframe thead th {\n",
       "        text-align: right;\n",
       "    }\n",
       "</style>\n",
       "<table border=\"1\" class=\"dataframe\">\n",
       "  <thead>\n",
       "    <tr style=\"text-align: right;\">\n",
       "      <th></th>\n",
       "      <th>Temp</th>\n",
       "    </tr>\n",
       "    <tr>\n",
       "      <th>Date</th>\n",
       "      <th></th>\n",
       "    </tr>\n",
       "  </thead>\n",
       "  <tbody>\n",
       "    <tr>\n",
       "      <th>2009-01-01</th>\n",
       "      <td>58.280</td>\n",
       "    </tr>\n",
       "    <tr>\n",
       "      <th>2010-01-01</th>\n",
       "      <td>58.406</td>\n",
       "    </tr>\n",
       "    <tr>\n",
       "      <th>2011-01-01</th>\n",
       "      <td>58.190</td>\n",
       "    </tr>\n",
       "    <tr>\n",
       "      <th>2012-01-01</th>\n",
       "      <td>58.244</td>\n",
       "    </tr>\n",
       "    <tr>\n",
       "      <th>2013-01-01</th>\n",
       "      <td>58.298</td>\n",
       "    </tr>\n",
       "  </tbody>\n",
       "</table>\n",
       "</div>"
      ],
      "text/plain": [
       "              Temp\n",
       "Date              \n",
       "2009-01-01  58.280\n",
       "2010-01-01  58.406\n",
       "2011-01-01  58.190\n",
       "2012-01-01  58.244\n",
       "2013-01-01  58.298"
      ]
     },
     "execution_count": 8,
     "metadata": {},
     "output_type": "execute_result"
    }
   ],
   "source": [
    "df.tail()"
   ]
  },
  {
   "cell_type": "code",
   "execution_count": 9,
   "metadata": {},
   "outputs": [
    {
     "data": {
      "text/plain": [
       "<matplotlib.axes._subplots.AxesSubplot at 0x11d0f8f10>"
      ]
     },
     "execution_count": 9,
     "metadata": {},
     "output_type": "execute_result"
    },
    {
     "data": {
      "image/png": "[encoded data removed]",
      "text/plain": [
       "<Figure size 432x288 with 1 Axes>"
      ]
     },
     "metadata": {
      "needs_background": "light"
     },
     "output_type": "display_data"
    }
   ],
   "source": [
    "df.plot()"
   ]
  },
  {
   "cell_type": "code",
   "execution_count": 10,
   "metadata": {},
   "outputs": [
    {
     "data": {
      "text/plain": [
       "pandas._libs.tslibs.timestamps.Timestamp"
      ]
     },
     "execution_count": 10,
     "metadata": {},
     "output_type": "execute_result"
    }
   ],
   "source": [
    "type(df.index[0])"
   ]
  },
  {
   "cell_type": "markdown",
   "metadata": {},
   "source": [
    "Rather than treat the average temperature over a particular year has happening at a particular time stamp, instead we could consider the average temperature to be happening over a particular ***time period***.  Python can distinguish between the two."
   ]
  },
  {
   "cell_type": "code",
   "execution_count": 11,
   "metadata": {},
   "outputs": [],
   "source": [
    "df.index = df.index.to_period('Y')"
   ]
  },
  {
   "cell_type": "code",
   "execution_count": 13,
   "metadata": {},
   "outputs": [
    {
     "data": {
      "text/plain": [
       "pandas._libs.tslibs.period.Period"
      ]
     },
     "execution_count": 13,
     "metadata": {},
     "output_type": "execute_result"
    }
   ],
   "source": [
    "type(df.index[0])"
   ]
  },
  {
   "cell_type": "code",
   "execution_count": 14,
   "metadata": {},
   "outputs": [
    {
     "data": {
      "text/html": [
       "<div>\n",
       "<style scoped>\n",
       "    .dataframe tbody tr th:only-of-type {\n",
       "        vertical-align: middle;\n",
       "    }\n",
       "\n",
       "    .dataframe tbody tr th {\n",
       "        vertical-align: top;\n",
       "    }\n",
       "\n",
       "    .dataframe thead th {\n",
       "        text-align: right;\n",
       "    }\n",
       "</style>\n",
       "<table border=\"1\" class=\"dataframe\">\n",
       "  <thead>\n",
       "    <tr style=\"text-align: right;\">\n",
       "      <th></th>\n",
       "      <th>Temp</th>\n",
       "    </tr>\n",
       "    <tr>\n",
       "      <th>Date</th>\n",
       "      <th></th>\n",
       "    </tr>\n",
       "  </thead>\n",
       "  <tbody>\n",
       "    <tr>\n",
       "      <th>1880</th>\n",
       "      <td>56.822</td>\n",
       "    </tr>\n",
       "    <tr>\n",
       "      <th>1881</th>\n",
       "      <td>56.984</td>\n",
       "    </tr>\n",
       "    <tr>\n",
       "      <th>1882</th>\n",
       "      <td>56.912</td>\n",
       "    </tr>\n",
       "    <tr>\n",
       "      <th>1883</th>\n",
       "      <td>56.876</td>\n",
       "    </tr>\n",
       "    <tr>\n",
       "      <th>1884</th>\n",
       "      <td>56.732</td>\n",
       "    </tr>\n",
       "  </tbody>\n",
       "</table>\n",
       "</div>"
      ],
      "text/plain": [
       "        Temp\n",
       "Date        \n",
       "1880  56.822\n",
       "1881  56.984\n",
       "1882  56.912\n",
       "1883  56.876\n",
       "1884  56.732"
      ]
     },
     "execution_count": 14,
     "metadata": {},
     "output_type": "execute_result"
    }
   ],
   "source": [
    "df.head()"
   ]
  },
  {
   "cell_type": "code",
   "execution_count": 15,
   "metadata": {},
   "outputs": [
    {
     "data": {
      "text/plain": [
       "<matplotlib.axes._subplots.AxesSubplot at 0x111a49e10>"
      ]
     },
     "execution_count": 15,
     "metadata": {},
     "output_type": "execute_result"
    },
    {
     "data": {
      "image/png": "[encoded data removed]",
      "text/plain": [
       "<Figure size 432x288 with 1 Axes>"
      ]
     },
     "metadata": {
      "needs_background": "light"
     },
     "output_type": "display_data"
    }
   ],
   "source": [
    "df.plot()"
   ]
  },
  {
   "cell_type": "code",
   "execution_count": 16,
   "metadata": {},
   "outputs": [],
   "source": [
    "from statsmodels.tsa.holtwinters import ExponentialSmoothing"
   ]
  },
  {
   "cell_type": "code",
   "execution_count": 17,
   "metadata": {},
   "outputs": [],
   "source": [
    "model = ExponentialSmoothing(df)"
   ]
  },
  {
   "cell_type": "code",
   "execution_count": 18,
   "metadata": {},
   "outputs": [
    {
     "data": {
      "text/html": [
       "<table class=\"simpletable\">\n",
       "<caption>ExponentialSmoothing Model Results</caption>\n",
       "<tr>\n",
       "  <th>Dep. Variable:</th>            <td>endog</td>        <th>  No. Observations:  </th>        <td>134</td>      \n",
       "</tr>\n",
       "<tr>\n",
       "  <th>Model:</th>            <td>ExponentialSmoothing</td> <th>  SSE                </th>       <td>3.828</td>     \n",
       "</tr>\n",
       "<tr>\n",
       "  <th>Optimized:</th>                <td>True</td>         <th>  AIC                </th>     <td>-472.428</td>    \n",
       "</tr>\n",
       "<tr>\n",
       "  <th>Trend:</th>                    <td>None</td>         <th>  BIC                </th>     <td>-466.632</td>    \n",
       "</tr>\n",
       "<tr>\n",
       "  <th>Seasonal:</th>                 <td>None</td>         <th>  AICC               </th>     <td>-472.118</td>    \n",
       "</tr>\n",
       "<tr>\n",
       "  <th>Seasonal Periods:</th>         <td>None</td>         <th>  Date:              </th> <td>Wed, 10 Mar 2021</td>\n",
       "</tr>\n",
       "<tr>\n",
       "  <th>Box-Cox:</th>                  <td>False</td>        <th>  Time:              </th>     <td>23:15:09</td>    \n",
       "</tr>\n",
       "<tr>\n",
       "  <th>Box-Cox Coeff.:</th>           <td>None</td>         <th>                     </th>         <td> </td>       \n",
       "</tr>\n",
       "</table>\n",
       "<table class=\"simpletable\">\n",
       "<tr>\n",
       "         <td></td>                 <th>coeff</th>                <th>code</th>               <th>optimized</th>     \n",
       "</tr>\n",
       "<tr>\n",
       "  <th>smoothing_level</th> <td>           0.4601695</td> <td>               alpha</td> <td>                True</td>\n",
       "</tr>\n",
       "<tr>\n",
       "  <th>initial_level</th>   <td>           56.871623</td> <td>                 l.0</td> <td>                True</td>\n",
       "</tr>\n",
       "</table>"
      ],
      "text/plain": [
       "<class 'statsmodels.iolib.summary.Summary'>\n",
       "\"\"\"\n",
       "                       ExponentialSmoothing Model Results                       \n",
       "================================================================================\n",
       "Dep. Variable:                    endog   No. Observations:                  134\n",
       "Model:             ExponentialSmoothing   SSE                              3.828\n",
       "Optimized:                         True   AIC                           -472.428\n",
       "Trend:                             None   BIC                           -466.632\n",
       "Seasonal:                          None   AICC                          -472.118\n",
       "Seasonal Periods:                  None   Date:                 Wed, 10 Mar 2021\n",
       "Box-Cox:                          False   Time:                         23:15:09\n",
       "Box-Cox Coeff.:                    None                                         \n",
       "==============================================================================\n",
       "                       coeff                 code              optimized      \n",
       "------------------------------------------------------------------------------\n",
       "smoothing_level            0.4601695                alpha                 True\n",
       "initial_level              56.871623                  l.0                 True\n",
       "------------------------------------------------------------------------------\n",
       "\"\"\""
      ]
     },
     "execution_count": 18,
     "metadata": {},
     "output_type": "execute_result"
    }
   ],
   "source": [
    "# This is simple exponential smoothing.\n",
    "fit = model.fit()\n",
    "fit.summary()"
   ]
  },
  {
   "cell_type": "code",
   "execution_count": 19,
   "metadata": {},
   "outputs": [],
   "source": [
    "dfhat = fit.predict(0,len(df)+20)"
   ]
  },
  {
   "cell_type": "code",
   "execution_count": 20,
   "metadata": {
    "scrolled": true
   },
   "outputs": [
    {
     "data": {
      "text/plain": [
       "<matplotlib.axes._subplots.AxesSubplot at 0x1261986d0>"
      ]
     },
     "execution_count": 20,
     "metadata": {},
     "output_type": "execute_result"
    },
    {
     "data": {
      "text/plain": [
       "<Figure size 432x288 with 0 Axes>"
      ]
     },
     "metadata": {},
     "output_type": "display_data"
    },
    {
     "data": {
      "image/png": "[encoded data removed]",
      "text/plain": [
       "<Figure size 432x288 with 1 Axes>"
      ]
     },
     "metadata": {
      "needs_background": "light"
     },
     "output_type": "display_data"
    }
   ],
   "source": [
    "plt.figure()\n",
    "df.plot()\n",
    "dfhat.plot()"
   ]
  },
  {
   "cell_type": "code",
   "execution_count": 21,
   "metadata": {},
   "outputs": [
    {
     "data": {
      "text/html": [
       "<table class=\"simpletable\">\n",
       "<caption>ExponentialSmoothing Model Results</caption>\n",
       "<tr>\n",
       "  <th>Dep. Variable:</th>            <td>endog</td>        <th>  No. Observations:  </th>        <td>134</td>      \n",
       "</tr>\n",
       "<tr>\n",
       "  <th>Model:</th>            <td>ExponentialSmoothing</td> <th>  SSE                </th>       <td>3.750</td>     \n",
       "</tr>\n",
       "<tr>\n",
       "  <th>Optimized:</th>                <td>True</td>         <th>  AIC                </th>     <td>-471.195</td>    \n",
       "</tr>\n",
       "<tr>\n",
       "  <th>Trend:</th>                  <td>Additive</td>       <th>  BIC                </th>     <td>-459.604</td>    \n",
       "</tr>\n",
       "<tr>\n",
       "  <th>Seasonal:</th>                 <td>None</td>         <th>  AICC               </th>     <td>-470.534</td>    \n",
       "</tr>\n",
       "<tr>\n",
       "  <th>Seasonal Periods:</th>         <td>None</td>         <th>  Date:              </th> <td>Wed, 10 Mar 2021</td>\n",
       "</tr>\n",
       "<tr>\n",
       "  <th>Box-Cox:</th>                  <td>False</td>        <th>  Time:              </th>     <td>23:15:15</td>    \n",
       "</tr>\n",
       "<tr>\n",
       "  <th>Box-Cox Coeff.:</th>           <td>None</td>         <th>                     </th>         <td> </td>       \n",
       "</tr>\n",
       "</table>\n",
       "<table class=\"simpletable\">\n",
       "<tr>\n",
       "         <td></td>                 <th>coeff</th>                <th>code</th>               <th>optimized</th>     \n",
       "</tr>\n",
       "<tr>\n",
       "  <th>smoothing_level</th> <td>           0.4156884</td> <td>               alpha</td> <td>                True</td>\n",
       "</tr>\n",
       "<tr>\n",
       "  <th>smoothing_slope</th> <td>            0.000000</td> <td>                beta</td> <td>                True</td>\n",
       "</tr>\n",
       "<tr>\n",
       "  <th>initial_level</th>   <td>           56.843829</td> <td>                 l.0</td> <td>                True</td>\n",
       "</tr>\n",
       "<tr>\n",
       "  <th>initial_slope</th>   <td>           0.0107676</td> <td>                 b.0</td> <td>                True</td>\n",
       "</tr>\n",
       "</table>"
      ],
      "text/plain": [
       "<class 'statsmodels.iolib.summary.Summary'>\n",
       "\"\"\"\n",
       "                       ExponentialSmoothing Model Results                       \n",
       "================================================================================\n",
       "Dep. Variable:                    endog   No. Observations:                  134\n",
       "Model:             ExponentialSmoothing   SSE                              3.750\n",
       "Optimized:                         True   AIC                           -471.195\n",
       "Trend:                         Additive   BIC                           -459.604\n",
       "Seasonal:                          None   AICC                          -470.534\n",
       "Seasonal Periods:                  None   Date:                 Wed, 10 Mar 2021\n",
       "Box-Cox:                          False   Time:                         23:15:15\n",
       "Box-Cox Coeff.:                    None                                         \n",
       "==============================================================================\n",
       "                       coeff                 code              optimized      \n",
       "------------------------------------------------------------------------------\n",
       "smoothing_level            0.4156884                alpha                 True\n",
       "smoothing_slope             0.000000                 beta                 True\n",
       "initial_level              56.843829                  l.0                 True\n",
       "initial_slope              0.0107676                  b.0                 True\n",
       "------------------------------------------------------------------------------\n",
       "\"\"\""
      ]
     },
     "execution_count": 21,
     "metadata": {},
     "output_type": "execute_result"
    }
   ],
   "source": [
    "# This is Holt with trend (also called double exponential smoothing).\n",
    "# But here the best fit turned out to be a constant trend.\n",
    "model = ExponentialSmoothing(df, trend=\"additive\")\n",
    "fit = model.fit()\n",
    "fit.summary()"
   ]
  },
  {
   "cell_type": "code",
   "execution_count": 22,
   "metadata": {},
   "outputs": [
    {
     "data": {
      "text/plain": [
       "<matplotlib.axes._subplots.AxesSubplot at 0x12614e650>"
      ]
     },
     "execution_count": 22,
     "metadata": {},
     "output_type": "execute_result"
    },
    {
     "data": {
      "text/plain": [
       "<Figure size 432x288 with 0 Axes>"
      ]
     },
     "metadata": {},
     "output_type": "display_data"
    },
    {
     "data": {
      "image/png": "[encoded data removed]",
      "text/plain": [
       "<Figure size 432x288 with 1 Axes>"
      ]
     },
     "metadata": {
      "needs_background": "light"
     },
     "output_type": "display_data"
    }
   ],
   "source": [
    "dfhat = fit.predict(0,len(df)+20)\n",
    "plt.figure()\n",
    "df.plot()\n",
    "dfhat.plot()"
   ]
  },
  {
   "cell_type": "code",
   "execution_count": 23,
   "metadata": {},
   "outputs": [],
   "source": [
    "# The \"Pyramid ARIMA\" package has a R-style \"auto.arima\" function.  To install:\n",
    "# pip install pmdarima\n",
    "import pmdarima as pm"
   ]
  },
  {
   "cell_type": "code",
   "execution_count": 24,
   "metadata": {},
   "outputs": [],
   "source": [
    "fit = pm.auto_arima(df)  # auto_arima returns a fitted model"
   ]
  },
  {
   "cell_type": "code",
   "execution_count": 25,
   "metadata": {},
   "outputs": [
    {
     "data": {
      "text/html": [
       "<table class=\"simpletable\">\n",
       "<caption>SARIMAX Results</caption>\n",
       "<tr>\n",
       "  <th>Dep. Variable:</th>           <td>y</td>        <th>  No. Observations:  </th>   <td>134</td>  \n",
       "</tr>\n",
       "<tr>\n",
       "  <th>Model:</th>           <td>SARIMAX(1, 1, 3)</td> <th>  Log Likelihood     </th> <td>53.392</td> \n",
       "</tr>\n",
       "<tr>\n",
       "  <th>Date:</th>            <td>Wed, 10 Mar 2021</td> <th>  AIC                </th> <td>-94.784</td>\n",
       "</tr>\n",
       "<tr>\n",
       "  <th>Time:</th>                <td>23:15:32</td>     <th>  BIC                </th> <td>-77.441</td>\n",
       "</tr>\n",
       "<tr>\n",
       "  <th>Sample:</th>                  <td>0</td>        <th>  HQIC               </th> <td>-87.736</td>\n",
       "</tr>\n",
       "<tr>\n",
       "  <th></th>                      <td> - 134</td>      <th>                     </th>    <td> </td>   \n",
       "</tr>\n",
       "<tr>\n",
       "  <th>Covariance Type:</th>        <td>opg</td>       <th>                     </th>    <td> </td>   \n",
       "</tr>\n",
       "</table>\n",
       "<table class=\"simpletable\">\n",
       "<tr>\n",
       "      <td></td>         <th>coef</th>     <th>std err</th>      <th>z</th>      <th>P>|z|</th>  <th>[0.025</th>    <th>0.975]</th>  \n",
       "</tr>\n",
       "<tr>\n",
       "  <th>intercept</th> <td>    0.0216</td> <td>    0.010</td> <td>    2.129</td> <td> 0.033</td> <td>    0.002</td> <td>    0.041</td>\n",
       "</tr>\n",
       "<tr>\n",
       "  <th>ar.L1</th>     <td>   -0.9478</td> <td>    0.063</td> <td>  -14.969</td> <td> 0.000</td> <td>   -1.072</td> <td>   -0.824</td>\n",
       "</tr>\n",
       "<tr>\n",
       "  <th>ma.L1</th>     <td>    0.5644</td> <td>    0.112</td> <td>    5.054</td> <td> 0.000</td> <td>    0.346</td> <td>    0.783</td>\n",
       "</tr>\n",
       "<tr>\n",
       "  <th>ma.L2</th>     <td>   -0.5824</td> <td>    0.095</td> <td>   -6.154</td> <td> 0.000</td> <td>   -0.768</td> <td>   -0.397</td>\n",
       "</tr>\n",
       "<tr>\n",
       "  <th>ma.L3</th>     <td>   -0.2821</td> <td>    0.091</td> <td>   -3.101</td> <td> 0.002</td> <td>   -0.460</td> <td>   -0.104</td>\n",
       "</tr>\n",
       "<tr>\n",
       "  <th>sigma2</th>    <td>    0.0261</td> <td>    0.004</td> <td>    6.888</td> <td> 0.000</td> <td>    0.019</td> <td>    0.034</td>\n",
       "</tr>\n",
       "</table>\n",
       "<table class=\"simpletable\">\n",
       "<tr>\n",
       "  <th>Ljung-Box (Q):</th>          <td>39.46</td> <th>  Jarque-Bera (JB):  </th> <td>1.79</td> \n",
       "</tr>\n",
       "<tr>\n",
       "  <th>Prob(Q):</th>                <td>0.49</td>  <th>  Prob(JB):          </th> <td>0.41</td> \n",
       "</tr>\n",
       "<tr>\n",
       "  <th>Heteroskedasticity (H):</th> <td>1.55</td>  <th>  Skew:              </th> <td>-0.09</td>\n",
       "</tr>\n",
       "<tr>\n",
       "  <th>Prob(H) (two-sided):</th>    <td>0.15</td>  <th>  Kurtosis:          </th> <td>2.46</td> \n",
       "</tr>\n",
       "</table><br/><br/>Warnings:<br/>[1] Covariance matrix calculated using the outer product of gradients (complex-step)."
      ],
      "text/plain": [
       "<class 'statsmodels.iolib.summary.Summary'>\n",
       "\"\"\"\n",
       "                               SARIMAX Results                                \n",
       "==============================================================================\n",
       "Dep. Variable:                      y   No. Observations:                  134\n",
       "Model:               SARIMAX(1, 1, 3)   Log Likelihood                  53.392\n",
       "Date:                Wed, 10 Mar 2021   AIC                            -94.784\n",
       "Time:                        23:15:32   BIC                            -77.441\n",
       "Sample:                             0   HQIC                           -87.736\n",
       "                                - 134                                         \n",
       "Covariance Type:                  opg                                         \n",
       "==============================================================================\n",
       "                 coef    std err          z      P>|z|      [0.025      0.975]\n",
       "------------------------------------------------------------------------------\n",
       "intercept      0.0216      0.010      2.129      0.033       0.002       0.041\n",
       "ar.L1         -0.9478      0.063    -14.969      0.000      -1.072      -0.824\n",
       "ma.L1          0.5644      0.112      5.054      0.000       0.346       0.783\n",
       "ma.L2         -0.5824      0.095     -6.154      0.000      -0.768      -0.397\n",
       "ma.L3         -0.2821      0.091     -3.101      0.002      -0.460      -0.104\n",
       "sigma2         0.0261      0.004      6.888      0.000       0.019       0.034\n",
       "===================================================================================\n",
       "Ljung-Box (Q):                       39.46   Jarque-Bera (JB):                 1.79\n",
       "Prob(Q):                              0.49   Prob(JB):                         0.41\n",
       "Heteroskedasticity (H):               1.55   Skew:                            -0.09\n",
       "Prob(H) (two-sided):                  0.15   Kurtosis:                         2.46\n",
       "===================================================================================\n",
       "\n",
       "Warnings:\n",
       "[1] Covariance matrix calculated using the outer product of gradients (complex-step).\n",
       "\"\"\""
      ]
     },
     "execution_count": 25,
     "metadata": {},
     "output_type": "execute_result"
    }
   ],
   "source": [
    "fit.summary()"
   ]
  },
  {
   "cell_type": "code",
   "execution_count": 26,
   "metadata": {},
   "outputs": [],
   "source": [
    "forecasts = pd.Series(fit.predict(100), index=pd.period_range('2014', periods=100, freq='Y'))"
   ]
  },
  {
   "cell_type": "code",
   "execution_count": 27,
   "metadata": {},
   "outputs": [
    {
     "data": {
      "text/plain": [
       "2014    58.287975\n",
       "2015    58.319309\n",
       "2016    58.317231\n",
       "2017    58.340785\n",
       "2018    58.340045\n",
       "Freq: A-DEC, dtype: float64"
      ]
     },
     "execution_count": 27,
     "metadata": {},
     "output_type": "execute_result"
    }
   ],
   "source": [
    "forecasts.head()"
   ]
  },
  {
   "cell_type": "code",
   "execution_count": 28,
   "metadata": {},
   "outputs": [
    {
     "data": {
      "text/plain": [
       "<matplotlib.axes._subplots.AxesSubplot at 0x12a0d3050>"
      ]
     },
     "execution_count": 28,
     "metadata": {},
     "output_type": "execute_result"
    },
    {
     "data": {
      "text/plain": [
       "<Figure size 432x288 with 0 Axes>"
      ]
     },
     "metadata": {},
     "output_type": "display_data"
    },
    {
     "data": {
      "image/png": "[encoded data removed]",
      "text/plain": [
       "<Figure size 432x288 with 1 Axes>"
      ]
     },
     "metadata": {
      "needs_background": "light"
     },
     "output_type": "display_data"
    }
   ],
   "source": [
    "plt.figure()\n",
    "df.plot()\n",
    "forecasts.plot()"
   ]
  },
  {
   "cell_type": "code",
   "execution_count": 29,
   "metadata": {
    "scrolled": false
   },
   "outputs": [
    {
     "data": {
      "text/plain": [
       "(array([58.28797495, 58.31930892, 58.31723148, 58.34078499, 58.34004505,\n",
       "        58.36233085, 58.36279247, 58.38393942, 58.38548047, 58.40560432,\n",
       "        58.40811507, 58.42731981, 58.43070171, 58.44908077, 58.45324527,\n",
       "        58.47088256, 58.47575011, 58.49272105, 58.49822019, 58.51459249,\n",
       "        58.52065903, 58.53649354, 58.5430698 , 58.55842119, 58.56545536,\n",
       "        58.58037273, 58.58781827, 58.60234574, 58.61016084, 58.62433803,\n",
       "        58.63248513, 58.64634765, 58.654793  , 58.66837284, 58.67708611,\n",
       "        58.690412  , 58.69936598, 58.71246373, 58.72163394, 58.73452673,\n",
       "        58.7438912 , 58.75659988, 58.76613886, 58.77868213, 58.78837789,\n",
       "        58.80077257, 58.81060916, 58.82287035, 58.83283346, 58.84497473,\n",
       "        58.85505151, 58.86708505, 58.87726394, 58.88920069, 58.89947131,\n",
       "        58.91132113, 58.92167415, 58.93344586, 58.94387291, 58.95557445,\n",
       "        58.96606802, 58.97770652, 58.98825983, 58.9998417 , 59.01044868,\n",
       "        59.02197968, 59.03263489, 59.04412018, 59.0548187 , 59.06626295,\n",
       "        59.07700038, 59.08840774, 59.09918013, 59.11055435, 59.12135815,\n",
       "        59.13270261, 59.14353462, 59.15485233, 59.16570969, 59.17700338,\n",
       "        59.18788351, 59.19915562, 59.2100562 , 59.22130892, 59.23222788,\n",
       "        59.24346319, 59.25439865, 59.26561831, 59.27656861, 59.28777421,\n",
       "        59.29873783, 59.30993081, 59.32090639, 59.33208803, 59.34307436,\n",
       "        59.35424581, 59.3652418 , 59.37640409, 59.38740876, 59.39856283]),\n",
       " array([[57.9713109 , 58.604639  ],\n",
       "        [57.94728736, 58.69133047],\n",
       "        [57.92448469, 58.70997826],\n",
       "        [57.93493391, 58.74663606],\n",
       "        [57.91547875, 58.76461136],\n",
       "        [57.92533913, 58.79932258],\n",
       "        [57.90866846, 58.81691649],\n",
       "        [57.91794381, 58.84993503],\n",
       "        [57.90363592, 58.86732501],\n",
       "        [57.91235465, 58.89885399],\n",
       "        [57.90008019, 58.91614995],\n",
       "        [57.90828253, 58.9463571 ],\n",
       "        [57.89777642, 58.96362701],\n",
       "        [57.90550756, 58.99265398],\n",
       "        [57.8965516 , 59.00993894],\n",
       "        [57.90385787, 59.03790726],\n",
       "        [57.89626941, 59.05523082],\n",
       "        [57.90319613, 59.08224597],\n",
       "        [57.89682026, 59.09962012],\n",
       "        [57.90341055, 59.12577443],\n",
       "        [57.89811454, 59.14320351],\n",
       "        [57.90440872, 59.16857836],\n",
       "        [57.9000779 , 59.1860617 ],\n",
       "        [57.90611321, 59.21072916],\n",
       "        [57.90264785, 59.22826287],\n",
       "        [57.90845841, 59.25228705],\n",
       "        [57.90577128, 59.26986526],\n",
       "        [57.91138811, 59.29330336],\n",
       "        [57.90940262, 59.31091907],\n",
       "        [57.9148538 , 59.33382227],\n",
       "        [57.91350236, 59.3514679 ],\n",
       "        [57.9188132 , 59.3738821 ],\n",
       "        [57.91803603, 59.39154996],\n",
       "        [57.92322927, 59.4135164 ],\n",
       "        [57.92297331, 59.43119891],\n",
       "        [57.92806929, 59.45275471],\n",
       "        [57.92828736, 59.4704446 ],\n",
       "        [57.93330424, 59.49162322],\n",
       "        [57.93395425, 59.50931363],\n",
       "        [57.93890821, 59.53014526],\n",
       "        [57.93995257, 59.54782984],\n",
       "        [57.94485798, 59.56834178],\n",
       "        [57.94626304, 59.58601468],\n",
       "        [57.95113264, 59.60623163],\n",
       "        [57.95286823, 59.62388754],\n",
       "        [57.95771328, 59.64383186],\n",
       "        [57.95975232, 59.661466  ],\n",
       "        [57.96458273, 59.68115796],\n",
       "        [57.96690087, 59.69876606],\n",
       "        [57.97172538, 59.71822408],\n",
       "        [57.97430067, 59.73580235],\n",
       "        [57.97912694, 59.75504315],\n",
       "        [57.98193961, 59.77258826],\n",
       "        [57.98677434, 59.79162705],\n",
       "        [57.98980652, 59.8091361 ],\n",
       "        [57.99465553, 59.82798672],\n",
       "        [57.99789109, 59.84545721],\n",
       "        [58.00275945, 59.86413227],\n",
       "        [58.00618378, 59.88156205],\n",
       "        [58.01107586, 59.90007305],\n",
       "        [58.01467571, 59.91746032],\n",
       "        [58.01959528, 59.93581775],\n",
       "        [58.02335865, 59.95316101],\n",
       "        [58.02830893, 59.97137447],\n",
       "        [58.0322249 , 59.98867247],\n",
       "        [58.03720863, 60.00675074],\n",
       "        [58.04126727, 60.0240025 ],\n",
       "        [58.04628676, 60.04195361],\n",
       "        [58.05047904, 60.05915837],\n",
       "        [58.05553622, 60.07698967],\n",
       "        [58.0598539 , 60.09414686],\n",
       "        [58.06495035, 60.11186513],\n",
       "        [58.06938591, 60.12897434],\n",
       "        [58.07452292, 60.14658578],\n",
       "        [58.0790695 , 60.1636468 ],\n",
       "        [58.0842481 , 60.18115711],\n",
       "        [58.08889941, 60.19816982],\n",
       "        [58.0941204 , 60.21558426],\n",
       "        [58.09887067, 60.2325487 ],\n",
       "        [58.10413465, 60.24987212],\n",
       "        [58.1089786 , 60.26678841],\n",
       "        [58.11428598, 60.28402526],\n",
       "        [58.11921876, 60.30089364],\n",
       "        [58.12456979, 60.31804806],\n",
       "        [58.12958693, 60.33486883],\n",
       "        [58.13498174, 60.35194463],\n",
       "        [58.14007914, 60.36871817],\n",
       "        [58.14551774, 60.38571889],\n",
       "        [58.15069159, 60.40244563],\n",
       "        [58.15617388, 60.41937455],\n",
       "        [58.16142069, 60.43605497],\n",
       "        [58.16694647, 60.45291514],\n",
       "        [58.172263  , 60.46954979],\n",
       "        [58.17783202, 60.48634403],\n",
       "        [58.18321527, 60.50293346],\n",
       "        [58.18882719, 60.51966442],\n",
       "        [58.19427438, 60.53620923],\n",
       "        [58.19992883, 60.55287935],\n",
       "        [58.20543736, 60.56938017],\n",
       "        [58.2111339 , 60.58599175]]))"
      ]
     },
     "execution_count": 29,
     "metadata": {},
     "output_type": "execute_result"
    }
   ],
   "source": [
    "# We can also use \"predict\" to return confidence intervals.\n",
    "fit.predict(100, return_conf_int=True)"
   ]
  },
  {
   "cell_type": "code",
   "execution_count": 30,
   "metadata": {},
   "outputs": [],
   "source": [
    "forecasts = pd.DataFrame(fit.predict(100, return_conf_int=True)[1], \n",
    "                         index=pd.period_range('2014', periods=100, freq='Y'))"
   ]
  },
  {
   "cell_type": "code",
   "execution_count": 31,
   "metadata": {},
   "outputs": [
    {
     "data": {
      "text/html": [
       "<div>\n",
       "<style scoped>\n",
       "    .dataframe tbody tr th:only-of-type {\n",
       "        vertical-align: middle;\n",
       "    }\n",
       "\n",
       "    .dataframe tbody tr th {\n",
       "        vertical-align: top;\n",
       "    }\n",
       "\n",
       "    .dataframe thead th {\n",
       "        text-align: right;\n",
       "    }\n",
       "</style>\n",
       "<table border=\"1\" class=\"dataframe\">\n",
       "  <thead>\n",
       "    <tr style=\"text-align: right;\">\n",
       "      <th></th>\n",
       "      <th>0</th>\n",
       "      <th>1</th>\n",
       "    </tr>\n",
       "  </thead>\n",
       "  <tbody>\n",
       "    <tr>\n",
       "      <th>2014</th>\n",
       "      <td>57.971311</td>\n",
       "      <td>58.604639</td>\n",
       "    </tr>\n",
       "    <tr>\n",
       "      <th>2015</th>\n",
       "      <td>57.947287</td>\n",
       "      <td>58.691330</td>\n",
       "    </tr>\n",
       "    <tr>\n",
       "      <th>2016</th>\n",
       "      <td>57.924485</td>\n",
       "      <td>58.709978</td>\n",
       "    </tr>\n",
       "    <tr>\n",
       "      <th>2017</th>\n",
       "      <td>57.934934</td>\n",
       "      <td>58.746636</td>\n",
       "    </tr>\n",
       "    <tr>\n",
       "      <th>2018</th>\n",
       "      <td>57.915479</td>\n",
       "      <td>58.764611</td>\n",
       "    </tr>\n",
       "  </tbody>\n",
       "</table>\n",
       "</div>"
      ],
      "text/plain": [
       "              0          1\n",
       "2014  57.971311  58.604639\n",
       "2015  57.947287  58.691330\n",
       "2016  57.924485  58.709978\n",
       "2017  57.934934  58.746636\n",
       "2018  57.915479  58.764611"
      ]
     },
     "execution_count": 31,
     "metadata": {},
     "output_type": "execute_result"
    }
   ],
   "source": [
    "forecasts.head()"
   ]
  },
  {
   "cell_type": "code",
   "execution_count": 32,
   "metadata": {},
   "outputs": [
    {
     "data": {
      "text/plain": [
       "<matplotlib.axes._subplots.AxesSubplot at 0x12a0845d0>"
      ]
     },
     "execution_count": 32,
     "metadata": {},
     "output_type": "execute_result"
    },
    {
     "data": {
      "text/plain": [
       "<Figure size 432x288 with 0 Axes>"
      ]
     },
     "metadata": {},
     "output_type": "display_data"
    },
    {
     "data": {
      "image/png": "[encoded data removed]",
      "text/plain": [
       "<Figure size 432x288 with 1 Axes>"
      ]
     },
     "metadata": {
      "needs_background": "light"
     },
     "output_type": "display_data"
    }
   ],
   "source": [
    "plt.figure()\n",
    "df.plot()\n",
    "forecasts[0].plot()\n",
    "forecasts[1].plot()"
   ]
  },
  {
   "cell_type": "code",
   "execution_count": 33,
   "metadata": {},
   "outputs": [
    {
     "data": {
      "text/html": [
       "<table class=\"simpletable\">\n",
       "<caption>SARIMAX Results</caption>\n",
       "<tr>\n",
       "  <th>Dep. Variable:</th>           <td>y</td>        <th>  No. Observations:  </th>   <td>134</td>  \n",
       "</tr>\n",
       "<tr>\n",
       "  <th>Model:</th>           <td>SARIMAX(3, 0, 3)</td> <th>  Log Likelihood     </th> <td>53.958</td> \n",
       "</tr>\n",
       "<tr>\n",
       "  <th>Date:</th>            <td>Wed, 10 Mar 2021</td> <th>  AIC                </th> <td>-89.916</td>\n",
       "</tr>\n",
       "<tr>\n",
       "  <th>Time:</th>                <td>23:17:28</td>     <th>  BIC                </th> <td>-63.836</td>\n",
       "</tr>\n",
       "<tr>\n",
       "  <th>Sample:</th>                  <td>0</td>        <th>  HQIC               </th> <td>-79.318</td>\n",
       "</tr>\n",
       "<tr>\n",
       "  <th></th>                      <td> - 134</td>      <th>                     </th>    <td> </td>   \n",
       "</tr>\n",
       "<tr>\n",
       "  <th>Covariance Type:</th>        <td>opg</td>       <th>                     </th>    <td> </td>   \n",
       "</tr>\n",
       "</table>\n",
       "<table class=\"simpletable\">\n",
       "<tr>\n",
       "      <td></td>         <th>coef</th>     <th>std err</th>      <th>z</th>      <th>P>|z|</th>  <th>[0.025</th>    <th>0.975]</th>  \n",
       "</tr>\n",
       "<tr>\n",
       "  <th>intercept</th> <td>    7.8362</td> <td>    6.228</td> <td>    1.258</td> <td> 0.208</td> <td>   -4.370</td> <td>   20.042</td>\n",
       "</tr>\n",
       "<tr>\n",
       "  <th>drift</th>     <td>    0.0018</td> <td>    0.001</td> <td>    1.512</td> <td> 0.131</td> <td>   -0.001</td> <td>    0.004</td>\n",
       "</tr>\n",
       "<tr>\n",
       "  <th>ar.L1</th>     <td>    0.1448</td> <td>    0.477</td> <td>    0.303</td> <td> 0.762</td> <td>   -0.791</td> <td>    1.080</td>\n",
       "</tr>\n",
       "<tr>\n",
       "  <th>ar.L2</th>     <td>    0.3471</td> <td>    0.519</td> <td>    0.669</td> <td> 0.504</td> <td>   -0.670</td> <td>    1.365</td>\n",
       "</tr>\n",
       "<tr>\n",
       "  <th>ar.L3</th>     <td>    0.3695</td> <td>    0.332</td> <td>    1.114</td> <td> 0.265</td> <td>   -0.281</td> <td>    1.020</td>\n",
       "</tr>\n",
       "<tr>\n",
       "  <th>ma.L1</th>     <td>    0.3589</td> <td>    0.469</td> <td>    0.765</td> <td> 0.444</td> <td>   -0.560</td> <td>    1.278</td>\n",
       "</tr>\n",
       "<tr>\n",
       "  <th>ma.L2</th>     <td>   -0.1600</td> <td>    0.406</td> <td>   -0.395</td> <td> 0.693</td> <td>   -0.955</td> <td>    0.635</td>\n",
       "</tr>\n",
       "<tr>\n",
       "  <th>ma.L3</th>     <td>   -0.3735</td> <td>    0.185</td> <td>   -2.020</td> <td> 0.043</td> <td>   -0.736</td> <td>   -0.011</td>\n",
       "</tr>\n",
       "<tr>\n",
       "  <th>sigma2</th>    <td>    0.0261</td> <td>    0.004</td> <td>    6.699</td> <td> 0.000</td> <td>    0.018</td> <td>    0.034</td>\n",
       "</tr>\n",
       "</table>\n",
       "<table class=\"simpletable\">\n",
       "<tr>\n",
       "  <th>Ljung-Box (Q):</th>          <td>41.37</td> <th>  Jarque-Bera (JB):  </th> <td>2.55</td> \n",
       "</tr>\n",
       "<tr>\n",
       "  <th>Prob(Q):</th>                <td>0.41</td>  <th>  Prob(JB):          </th> <td>0.28</td> \n",
       "</tr>\n",
       "<tr>\n",
       "  <th>Heteroskedasticity (H):</th> <td>1.42</td>  <th>  Skew:              </th> <td>-0.26</td>\n",
       "</tr>\n",
       "<tr>\n",
       "  <th>Prob(H) (two-sided):</th>    <td>0.24</td>  <th>  Kurtosis:          </th> <td>2.56</td> \n",
       "</tr>\n",
       "</table><br/><br/>Warnings:<br/>[1] Covariance matrix calculated using the outer product of gradients (complex-step)."
      ],
      "text/plain": [
       "<class 'statsmodels.iolib.summary.Summary'>\n",
       "\"\"\"\n",
       "                               SARIMAX Results                                \n",
       "==============================================================================\n",
       "Dep. Variable:                      y   No. Observations:                  134\n",
       "Model:               SARIMAX(3, 0, 3)   Log Likelihood                  53.958\n",
       "Date:                Wed, 10 Mar 2021   AIC                            -89.916\n",
       "Time:                        23:17:28   BIC                            -63.836\n",
       "Sample:                             0   HQIC                           -79.318\n",
       "                                - 134                                         \n",
       "Covariance Type:                  opg                                         \n",
       "==============================================================================\n",
       "                 coef    std err          z      P>|z|      [0.025      0.975]\n",
       "------------------------------------------------------------------------------\n",
       "intercept      7.8362      6.228      1.258      0.208      -4.370      20.042\n",
       "drift          0.0018      0.001      1.512      0.131      -0.001       0.004\n",
       "ar.L1          0.1448      0.477      0.303      0.762      -0.791       1.080\n",
       "ar.L2          0.3471      0.519      0.669      0.504      -0.670       1.365\n",
       "ar.L3          0.3695      0.332      1.114      0.265      -0.281       1.020\n",
       "ma.L1          0.3589      0.469      0.765      0.444      -0.560       1.278\n",
       "ma.L2         -0.1600      0.406     -0.395      0.693      -0.955       0.635\n",
       "ma.L3         -0.3735      0.185     -2.020      0.043      -0.736      -0.011\n",
       "sigma2         0.0261      0.004      6.699      0.000       0.018       0.034\n",
       "===================================================================================\n",
       "Ljung-Box (Q):                       41.37   Jarque-Bera (JB):                 2.55\n",
       "Prob(Q):                              0.41   Prob(JB):                         0.28\n",
       "Heteroskedasticity (H):               1.42   Skew:                            -0.26\n",
       "Prob(H) (two-sided):                  0.24   Kurtosis:                         2.56\n",
       "===================================================================================\n",
       "\n",
       "Warnings:\n",
       "[1] Covariance matrix calculated using the outer product of gradients (complex-step).\n",
       "\"\"\""
      ]
     },
     "execution_count": 33,
     "metadata": {},
     "output_type": "execute_result"
    }
   ],
   "source": [
    "# Let's fit a trend stationary rather than difference stationary model.\n",
    "fit = pm.auto_arima(df, d=0, suppress_warnings=True, trend=\"ct\")\n",
    "fit.summary()"
   ]
  },
  {
   "cell_type": "code",
   "execution_count": 34,
   "metadata": {},
   "outputs": [
    {
     "data": {
      "text/plain": [
       "<matplotlib.axes._subplots.AxesSubplot at 0x12a1ae910>"
      ]
     },
     "execution_count": 34,
     "metadata": {},
     "output_type": "execute_result"
    },
    {
     "data": {
      "text/plain": [
       "<Figure size 432x288 with 0 Axes>"
      ]
     },
     "metadata": {},
     "output_type": "display_data"
    },
    {
     "data": {
      "image/png": "[encoded data removed]",
      "text/plain": [
       "<Figure size 432x288 with 1 Axes>"
      ]
     },
     "metadata": {
      "needs_background": "light"
     },
     "output_type": "display_data"
    }
   ],
   "source": [
    "forecasts = pd.Series(fit.predict(100), index=pd.period_range('2014', periods=100, freq='Y'))\n",
    "plt.figure()\n",
    "df.plot()\n",
    "forecasts.plot()"
   ]
  },
  {
   "cell_type": "code",
   "execution_count": 35,
   "metadata": {},
   "outputs": [
    {
     "data": {
      "text/plain": [
       "<matplotlib.axes._subplots.AxesSubplot at 0x12a3454d0>"
      ]
     },
     "execution_count": 35,
     "metadata": {},
     "output_type": "execute_result"
    },
    {
     "data": {
      "text/plain": [
       "<Figure size 432x288 with 0 Axes>"
      ]
     },
     "metadata": {},
     "output_type": "display_data"
    },
    {
     "data": {
      "image/png": "[encoded data removed]",
      "text/plain": [
       "<Figure size 432x288 with 1 Axes>"
      ]
     },
     "metadata": {
      "needs_background": "light"
     },
     "output_type": "display_data"
    }
   ],
   "source": [
    "forecasts = pd.DataFrame(fit.predict(100, return_conf_int=True)[1], \n",
    "                         index=pd.period_range('2014', periods=100, freq='Y'))\n",
    "plt.figure()\n",
    "df.plot()\n",
    "forecasts[0].plot()\n",
    "forecasts[1].plot()"
   ]
  },
  {
   "cell_type": "markdown",
   "metadata": {},
   "source": [
    "Note that forecast confidence intervals for the trend stationary model don't get bigger (in contrast with the difference stationary model)."
   ]
  },
  {
   "cell_type": "code",
   "execution_count": null,
   "metadata": {},
   "outputs": [],
   "source": []
  }
 ],
 "metadata": {
  "kernelspec": {
   "display_name": "Python 3",
   "language": "python",
   "name": "python3"
  },
  "language_info": {
   "codemirror_mode": {
    "name": "ipython",
    "version": 3
   },
   "file_extension": ".py",
   "mimetype": "text/x-python",
   "name": "python",
   "nbconvert_exporter": "python",
   "pygments_lexer": "ipython3",
   "version": "3.7.6"
  }
 },
 "nbformat": 4,
 "nbformat_minor": 2
}
