{
 "cells": [
  {
   "cell_type": "code",
   "execution_count": 1,
   "metadata": {},
   "outputs": [
    {
     "name": "stdout",
     "output_type": "stream",
     "text": [
      "https://www.multpl.com/s-p-500-dividend/table/by-year\n"
     ]
    }
   ],
   "source": [
    "url = \"https://www.multpl.com/s-p-500-dividend/table/by-year\"\n",
    "print(url)  # This page lists the annual dividends of the S&P 500,\n",
    "            # adjusted for inflation."
   ]
  },
  {
   "cell_type": "code",
   "execution_count": 2,
   "metadata": {},
   "outputs": [],
   "source": [
    "import numpy as np   # Traditionally we use \"np\" as an alias for numpy.\n",
    "import pandas as pd  # Traditionally we use \"pd\" as an alias for pandas."
   ]
  },
  {
   "cell_type": "code",
   "execution_count": 3,
   "metadata": {},
   "outputs": [
    {
     "name": "stdout",
     "output_type": "stream",
     "text": [
      "1\n"
     ]
    }
   ],
   "source": [
    "# We use pandas read_html() function to read html tables into\n",
    "# a list of DataFrames.\n",
    "list_of_DataFrames = pd.read_html(url, header=0)\n",
    "print(len(list_of_DataFrames))  # It is a list of only one DataFrame."
   ]
  },
  {
   "cell_type": "code",
   "execution_count": 4,
   "metadata": {},
   "outputs": [
    {
     "name": "stdout",
     "output_type": "stream",
     "text": [
      "<class 'pandas.core.frame.DataFrame'>\n",
      "150\n"
     ]
    },
    {
     "data": {
      "text/html": [
       "<div>\n",
       "<style scoped>\n",
       "    .dataframe tbody tr th:only-of-type {\n",
       "        vertical-align: middle;\n",
       "    }\n",
       "\n",
       "    .dataframe tbody tr th {\n",
       "        vertical-align: top;\n",
       "    }\n",
       "\n",
       "    .dataframe thead th {\n",
       "        text-align: right;\n",
       "    }\n",
       "</style>\n",
       "<table border=\"1\" class=\"dataframe\">\n",
       "  <thead>\n",
       "    <tr style=\"text-align: right;\">\n",
       "      <th></th>\n",
       "      <th>Date</th>\n",
       "      <th>Value Value</th>\n",
       "    </tr>\n",
       "  </thead>\n",
       "  <tbody>\n",
       "    <tr>\n",
       "      <th>0</th>\n",
       "      <td>Dec 31, 2020</td>\n",
       "      <td>58.28</td>\n",
       "    </tr>\n",
       "    <tr>\n",
       "      <th>1</th>\n",
       "      <td>Dec 31, 2019</td>\n",
       "      <td>59.03</td>\n",
       "    </tr>\n",
       "    <tr>\n",
       "      <th>2</th>\n",
       "      <td>Dec 31, 2018</td>\n",
       "      <td>55.73</td>\n",
       "    </tr>\n",
       "    <tr>\n",
       "      <th>3</th>\n",
       "      <td>Dec 31, 2017</td>\n",
       "      <td>51.70</td>\n",
       "    </tr>\n",
       "    <tr>\n",
       "      <th>4</th>\n",
       "      <td>Dec 31, 2016</td>\n",
       "      <td>49.31</td>\n",
       "    </tr>\n",
       "  </tbody>\n",
       "</table>\n",
       "</div>"
      ],
      "text/plain": [
       "           Date  Value Value\n",
       "0  Dec 31, 2020        58.28\n",
       "1  Dec 31, 2019        59.03\n",
       "2  Dec 31, 2018        55.73\n",
       "3  Dec 31, 2017        51.70\n",
       "4  Dec 31, 2016        49.31"
      ]
     },
     "execution_count": 4,
     "metadata": {},
     "output_type": "execute_result"
    }
   ],
   "source": [
    "df = list_of_DataFrames[0]\n",
    "print(type(df))\n",
    "print(len(df))\n",
    "df.head()"
   ]
  },
  {
   "cell_type": "code",
   "execution_count": 5,
   "metadata": {},
   "outputs": [
    {
     "data": {
      "text/html": [
       "<div>\n",
       "<style scoped>\n",
       "    .dataframe tbody tr th:only-of-type {\n",
       "        vertical-align: middle;\n",
       "    }\n",
       "\n",
       "    .dataframe tbody tr th {\n",
       "        vertical-align: top;\n",
       "    }\n",
       "\n",
       "    .dataframe thead th {\n",
       "        text-align: right;\n",
       "    }\n",
       "</style>\n",
       "<table border=\"1\" class=\"dataframe\">\n",
       "  <thead>\n",
       "    <tr style=\"text-align: right;\">\n",
       "      <th></th>\n",
       "      <th>Value Value</th>\n",
       "    </tr>\n",
       "    <tr>\n",
       "      <th>Date</th>\n",
       "      <th></th>\n",
       "    </tr>\n",
       "  </thead>\n",
       "  <tbody>\n",
       "    <tr>\n",
       "      <th>Dec 31, 2020</th>\n",
       "      <td>58.28</td>\n",
       "    </tr>\n",
       "    <tr>\n",
       "      <th>Dec 31, 2019</th>\n",
       "      <td>59.03</td>\n",
       "    </tr>\n",
       "    <tr>\n",
       "      <th>Dec 31, 2018</th>\n",
       "      <td>55.73</td>\n",
       "    </tr>\n",
       "    <tr>\n",
       "      <th>Dec 31, 2017</th>\n",
       "      <td>51.70</td>\n",
       "    </tr>\n",
       "    <tr>\n",
       "      <th>Dec 31, 2016</th>\n",
       "      <td>49.31</td>\n",
       "    </tr>\n",
       "  </tbody>\n",
       "</table>\n",
       "</div>"
      ],
      "text/plain": [
       "              Value Value\n",
       "Date                     \n",
       "Dec 31, 2020        58.28\n",
       "Dec 31, 2019        59.03\n",
       "Dec 31, 2018        55.73\n",
       "Dec 31, 2017        51.70\n",
       "Dec 31, 2016        49.31"
      ]
     },
     "execution_count": 5,
     "metadata": {},
     "output_type": "execute_result"
    }
   ],
   "source": [
    "df = df.set_index(\"Date\")\n",
    "df.head()"
   ]
  },
  {
   "cell_type": "code",
   "execution_count": 6,
   "metadata": {},
   "outputs": [
    {
     "data": {
      "text/html": [
       "<div>\n",
       "<style scoped>\n",
       "    .dataframe tbody tr th:only-of-type {\n",
       "        vertical-align: middle;\n",
       "    }\n",
       "\n",
       "    .dataframe tbody tr th {\n",
       "        vertical-align: top;\n",
       "    }\n",
       "\n",
       "    .dataframe thead th {\n",
       "        text-align: right;\n",
       "    }\n",
       "</style>\n",
       "<table border=\"1\" class=\"dataframe\">\n",
       "  <thead>\n",
       "    <tr style=\"text-align: right;\">\n",
       "      <th></th>\n",
       "      <th>Value Value</th>\n",
       "    </tr>\n",
       "    <tr>\n",
       "      <th>Date</th>\n",
       "      <th></th>\n",
       "    </tr>\n",
       "  </thead>\n",
       "  <tbody>\n",
       "    <tr>\n",
       "      <th>Dec 31, 1875</th>\n",
       "      <td>7.14</td>\n",
       "    </tr>\n",
       "    <tr>\n",
       "      <th>Dec 31, 1874</th>\n",
       "      <td>7.47</td>\n",
       "    </tr>\n",
       "    <tr>\n",
       "      <th>Dec 31, 1873</th>\n",
       "      <td>7.06</td>\n",
       "    </tr>\n",
       "    <tr>\n",
       "      <th>Dec 31, 1872</th>\n",
       "      <td>6.04</td>\n",
       "    </tr>\n",
       "    <tr>\n",
       "      <th>Dec 31, 1871</th>\n",
       "      <td>5.35</td>\n",
       "    </tr>\n",
       "  </tbody>\n",
       "</table>\n",
       "</div>"
      ],
      "text/plain": [
       "              Value Value\n",
       "Date                     \n",
       "Dec 31, 1875         7.14\n",
       "Dec 31, 1874         7.47\n",
       "Dec 31, 1873         7.06\n",
       "Dec 31, 1872         6.04\n",
       "Dec 31, 1871         5.35"
      ]
     },
     "execution_count": 6,
     "metadata": {},
     "output_type": "execute_result"
    }
   ],
   "source": [
    "df.tail()"
   ]
  },
  {
   "cell_type": "code",
   "execution_count": 7,
   "metadata": {},
   "outputs": [
    {
     "name": "stdout",
     "output_type": "stream",
     "text": [
      "<class 'pandas.core.series.Series'>\n"
     ]
    },
    {
     "data": {
      "text/plain": [
       "Date\n",
       "Dec 31, 2020    58.28\n",
       "Dec 31, 2019    59.03\n",
       "Dec 31, 2018    55.73\n",
       "Dec 31, 2017    51.70\n",
       "Dec 31, 2016    49.31\n",
       "Name: Value Value, dtype: float64"
      ]
     },
     "execution_count": 7,
     "metadata": {},
     "output_type": "execute_result"
    }
   ],
   "source": [
    "ts = df[\"Value Value\"]\n",
    "print(type(ts))\n",
    "ts.head()"
   ]
  },
  {
   "cell_type": "code",
   "execution_count": 8,
   "metadata": {},
   "outputs": [
    {
     "data": {
      "text/plain": [
       "(0, 61.7215)"
      ]
     },
     "execution_count": 8,
     "metadata": {},
     "output_type": "execute_result"
    },
    {
     "data": {
      "image/png": "[encoded data removed]",
      "text/plain": [
       "<Figure size 432x288 with 1 Axes>"
      ]
     },
     "metadata": {
      "needs_background": "light"
     },
     "output_type": "display_data"
    }
   ],
   "source": [
    "import matplotlib\n",
    "%matplotlib inline\n",
    "ts.plot().set_ylim((0,None))"
   ]
  },
  {
   "cell_type": "markdown",
   "metadata": {},
   "source": [
    "This is a bit goofy.  Because our list of dividends is in reverse chronological order, our dividend plot is reversed in time!  Also the dates look strange.  What is going on?"
   ]
  },
  {
   "cell_type": "code",
   "execution_count": 9,
   "metadata": {},
   "outputs": [
    {
     "data": {
      "text/plain": [
       "Index(['Dec 31, 2020', 'Dec 31, 2019', 'Dec 31, 2018', 'Dec 31, 2017',\n",
       "       'Dec 31, 2016', 'Dec 31, 2015', 'Dec 31, 2014', 'Dec 31, 2013',\n",
       "       'Dec 31, 2012', 'Dec 31, 2011',\n",
       "       ...\n",
       "       'Dec 31, 1880', 'Dec 31, 1879', 'Dec 31, 1878', 'Dec 31, 1877',\n",
       "       'Dec 31, 1876', 'Dec 31, 1875', 'Dec 31, 1874', 'Dec 31, 1873',\n",
       "       'Dec 31, 1872', 'Dec 31, 1871'],\n",
       "      dtype='object', name='Date', length=150)"
      ]
     },
     "execution_count": 9,
     "metadata": {},
     "output_type": "execute_result"
    }
   ],
   "source": [
    "ts.index"
   ]
  },
  {
   "cell_type": "markdown",
   "metadata": {},
   "source": [
    "Aha!  We have that problem again where the dates are read in as strings rather than as dates."
   ]
  },
  {
   "cell_type": "code",
   "execution_count": 10,
   "metadata": {},
   "outputs": [],
   "source": [
    "ts.index = pd.to_datetime(ts.index)"
   ]
  },
  {
   "cell_type": "code",
   "execution_count": 11,
   "metadata": {},
   "outputs": [
    {
     "data": {
      "text/plain": [
       "DatetimeIndex(['2020-12-31', '2019-12-31', '2018-12-31', '2017-12-31',\n",
       "               '2016-12-31', '2015-12-31', '2014-12-31', '2013-12-31',\n",
       "               '2012-12-31', '2011-12-31',\n",
       "               ...\n",
       "               '1880-12-31', '1879-12-31', '1878-12-31', '1877-12-31',\n",
       "               '1876-12-31', '1875-12-31', '1874-12-31', '1873-12-31',\n",
       "               '1872-12-31', '1871-12-31'],\n",
       "              dtype='datetime64[ns]', name='Date', length=150, freq=None)"
      ]
     },
     "execution_count": 11,
     "metadata": {},
     "output_type": "execute_result"
    }
   ],
   "source": [
    "ts.index"
   ]
  },
  {
   "cell_type": "code",
   "execution_count": 12,
   "metadata": {},
   "outputs": [
    {
     "data": {
      "text/plain": [
       "(0, 61.7215)"
      ]
     },
     "execution_count": 12,
     "metadata": {},
     "output_type": "execute_result"
    },
    {
     "data": {
      "image/png": "[encoded data removed]",
      "text/plain": [
       "<Figure size 432x288 with 1 Axes>"
      ]
     },
     "metadata": {
      "needs_background": "light"
     },
     "output_type": "display_data"
    }
   ],
   "source": [
    "ts.plot().set_ylim((0,None))"
   ]
  },
  {
   "cell_type": "markdown",
   "metadata": {},
   "source": [
    "This is much better.  The dates are fixed, and the plotting function corrects for the reversed chronlogical order.  But I confess that I am still nervous about having my series in reverse chronological order, so let's fix this."
   ]
  },
  {
   "cell_type": "code",
   "execution_count": 13,
   "metadata": {},
   "outputs": [
    {
     "data": {
      "text/plain": [
       "Date\n",
       "1871-12-31    5.35\n",
       "1872-12-31    6.04\n",
       "1873-12-31    7.06\n",
       "1874-12-31    7.47\n",
       "1875-12-31    7.14\n",
       "Name: Value Value, dtype: float64"
      ]
     },
     "execution_count": 13,
     "metadata": {},
     "output_type": "execute_result"
    }
   ],
   "source": [
    "ts = ts.sort_index()\n",
    "ts.head()"
   ]
  },
  {
   "cell_type": "markdown",
   "metadata": {},
   "source": [
    "As a finance person, instintively I think of dividends as something that would compound exponentially over time, leading us to want to do a log transformation of the data.  So when exactly is a log transformation justified?  First of all, it helps if all the data values are positive, because we can't take a log of zero or negative numbers.  Second, we'd like to see the fluctuations of the series be roughly proportional to the level of the series (as opposed to independent of the level), called a ***variance stabilizing*** transformation.\n",
    "\n",
    "A simple way to observe this is to examing the time plots of the differences of the original series as well as the log transformed one."
   ]
  },
  {
   "cell_type": "code",
   "execution_count": 14,
   "metadata": {},
   "outputs": [
    {
     "data": {
      "text/plain": [
       "<matplotlib.axes._subplots.AxesSubplot at 0x11ca2c090>"
      ]
     },
     "execution_count": 14,
     "metadata": {},
     "output_type": "execute_result"
    },
    {
     "data": {
      "image/png": "[encoded data removed]",
      "text/plain": [
       "<Figure size 432x288 with 1 Axes>"
      ]
     },
     "metadata": {
      "needs_background": "light"
     },
     "output_type": "display_data"
    }
   ],
   "source": [
    "ts.diff().plot()"
   ]
  },
  {
   "cell_type": "code",
   "execution_count": 15,
   "metadata": {},
   "outputs": [
    {
     "data": {
      "text/plain": [
       "<matplotlib.axes._subplots.AxesSubplot at 0x11cb24e10>"
      ]
     },
     "execution_count": 15,
     "metadata": {},
     "output_type": "execute_result"
    },
    {
     "data": {
      "image/png": "[encoded data removed]",
      "text/plain": [
       "<Figure size 432x288 with 1 Axes>"
      ]
     },
     "metadata": {
      "needs_background": "light"
     },
     "output_type": "display_data"
    }
   ],
   "source": [
    "np.log(ts).diff().plot()"
   ]
  },
  {
   "cell_type": "markdown",
   "metadata": {},
   "source": [
    "To be honest, it doesn't look like the log transformation has stabilized the variance.  It does seem like the variance of the dividends declined markedly after World War II (nonstationarity!).  But it does seem like if we consider the pre- and post-war periods separately, the log transformation does seem to stabilize variance."
   ]
  },
  {
   "cell_type": "code",
   "execution_count": 16,
   "metadata": {},
   "outputs": [
    {
     "data": {
      "text/plain": [
       "<matplotlib.axes._subplots.AxesSubplot at 0x11cc07310>"
      ]
     },
     "execution_count": 16,
     "metadata": {},
     "output_type": "execute_result"
    },
    {
     "data": {
      "image/png": "[encoded data removed]",
      "text/plain": [
       "<Figure size 432x288 with 1 Axes>"
      ]
     },
     "metadata": {
      "needs_background": "light"
     },
     "output_type": "display_data"
    }
   ],
   "source": [
    "# pre-WW2 untransformed differences\n",
    "ts[:'1945-12-31'].diff().plot()"
   ]
  },
  {
   "cell_type": "code",
   "execution_count": 17,
   "metadata": {},
   "outputs": [
    {
     "data": {
      "text/plain": [
       "<matplotlib.axes._subplots.AxesSubplot at 0x11c59e490>"
      ]
     },
     "execution_count": 17,
     "metadata": {},
     "output_type": "execute_result"
    },
    {
     "data": {
      "image/png": "[encoded data removed]",
      "text/plain": [
       "<Figure size 432x288 with 1 Axes>"
      ]
     },
     "metadata": {
      "needs_background": "light"
     },
     "output_type": "display_data"
    }
   ],
   "source": [
    "# pre-WW2 transformed differences has more stable variance.\n",
    "np.log(ts[:'1945-12-31']).diff().plot()"
   ]
  },
  {
   "cell_type": "code",
   "execution_count": 18,
   "metadata": {},
   "outputs": [
    {
     "data": {
      "text/plain": [
       "<matplotlib.axes._subplots.AxesSubplot at 0x11cdfbc10>"
      ]
     },
     "execution_count": 18,
     "metadata": {},
     "output_type": "execute_result"
    },
    {
     "data": {
      "image/png": "[encoded data removed]",
      "text/plain": [
       "<Figure size 432x288 with 1 Axes>"
      ]
     },
     "metadata": {
      "needs_background": "light"
     },
     "output_type": "display_data"
    }
   ],
   "source": [
    "# post-WW2 untransformed differences\n",
    "ts['1945-12-31':].diff().plot()"
   ]
  },
  {
   "cell_type": "code",
   "execution_count": 19,
   "metadata": {},
   "outputs": [
    {
     "data": {
      "text/plain": [
       "<matplotlib.axes._subplots.AxesSubplot at 0x11cef2b50>"
      ]
     },
     "execution_count": 19,
     "metadata": {},
     "output_type": "execute_result"
    },
    {
     "data": {
      "image/png": "[encoded data removed]",
      "text/plain": [
       "<Figure size 432x288 with 1 Axes>"
      ]
     },
     "metadata": {
      "needs_background": "light"
     },
     "output_type": "display_data"
    }
   ],
   "source": [
    "# post-WW2 transformed differences has more stable variance.\n",
    "np.log(ts['1945-12-31':]).diff().plot()"
   ]
  },
  {
   "cell_type": "markdown",
   "metadata": {},
   "source": [
    "So perhaps performing a log transformation makes sense, as long as we allow for a step change decrease in the variance after WWII.  So let's takes logs and plot the results."
   ]
  },
  {
   "cell_type": "code",
   "execution_count": 20,
   "metadata": {},
   "outputs": [
    {
     "data": {
      "text/plain": [
       "<matplotlib.axes._subplots.AxesSubplot at 0x11cfe1210>"
      ]
     },
     "execution_count": 20,
     "metadata": {},
     "output_type": "execute_result"
    },
    {
     "data": {
      "image/png": "[encoded data removed]",
      "text/plain": [
       "<Figure size 432x288 with 1 Axes>"
      ]
     },
     "metadata": {
      "needs_background": "light"
     },
     "output_type": "display_data"
    }
   ],
   "source": [
    "logdivs = np.log(ts)\n",
    "logdivs.plot()"
   ]
  },
  {
   "cell_type": "markdown",
   "metadata": {},
   "source": [
    "Let's also take take differences, which will give us a time series of annual growth in real (i.e. adjusted for inflation) dividends."
   ]
  },
  {
   "cell_type": "code",
   "execution_count": 21,
   "metadata": {},
   "outputs": [],
   "source": [
    "divgrowth = logdivs.diff()"
   ]
  },
  {
   "cell_type": "markdown",
   "metadata": {},
   "source": [
    "Let's use the `describe()` function to give us a quick statistical summary of our data."
   ]
  },
  {
   "cell_type": "code",
   "execution_count": 22,
   "metadata": {},
   "outputs": [
    {
     "data": {
      "text/plain": [
       "count    149.000000\n",
       "mean       0.016028\n",
       "std        0.116901\n",
       "min       -0.421839\n",
       "25%       -0.020610\n",
       "50%        0.020726\n",
       "75%        0.075061\n",
       "max        0.412580\n",
       "Name: Value Value, dtype: float64"
      ]
     },
     "execution_count": 22,
     "metadata": {},
     "output_type": "execute_result"
    }
   ],
   "source": [
    "divgrowth.describe()"
   ]
  },
  {
   "cell_type": "markdown",
   "metadata": {},
   "source": [
    "Also, let's use `describe()` to compare pre- and post-war periods."
   ]
  },
  {
   "cell_type": "code",
   "execution_count": 23,
   "metadata": {},
   "outputs": [
    {
     "data": {
      "text/plain": [
       "count    74.000000\n",
       "mean      0.007688\n",
       "std       0.151557\n",
       "min      -0.421839\n",
       "25%      -0.048193\n",
       "50%       0.016751\n",
       "75%       0.106784\n",
       "max       0.412580\n",
       "Name: Value Value, dtype: float64"
      ]
     },
     "execution_count": 23,
     "metadata": {},
     "output_type": "execute_result"
    }
   ],
   "source": [
    "divgrowth[:'1945-12-31'].describe()  # pre-war"
   ]
  },
  {
   "cell_type": "code",
   "execution_count": 24,
   "metadata": {},
   "outputs": [
    {
     "data": {
      "text/plain": [
       "count    76.000000\n",
       "mean      0.024049\n",
       "std       0.066913\n",
       "min      -0.263616\n",
       "25%      -0.011605\n",
       "50%       0.022066\n",
       "75%       0.061317\n",
       "max       0.224536\n",
       "Name: Value Value, dtype: float64"
      ]
     },
     "execution_count": 24,
     "metadata": {},
     "output_type": "execute_result"
    }
   ],
   "source": [
    "divgrowth['1945-12-31':].describe()  # post-war"
   ]
  },
  {
   "cell_type": "markdown",
   "metadata": {},
   "source": [
    "This confirms our visual observation the variability of dividend growth dropped marked after WWII.  There also seems to be an increase in the growth rate, but without doing a statistical test, it is unclear whether growth rate increase is a true increase or just a random sampling difference.\n",
    "\n",
    "Now we are confronted with a common problem for long time series, especially in finance and economics.  We have enough data to fit a model, but the problem is that the time series spans a sufficient length of time that we might expect the model parameters to change (just as the variance is observed to be changing).  How do we deal with this?  A simple approach is to just toss out the earlier data and model the more recent data.  A more sophisticated approach is to allow model parameters to change over time.\n",
    "\n",
    "For now, let's go with the simpler approach and just model the post-war dividend growth time series."
   ]
  },
  {
   "cell_type": "code",
   "execution_count": 25,
   "metadata": {},
   "outputs": [],
   "source": [
    "postwar = divgrowth['1945-12-31':]"
   ]
  },
  {
   "cell_type": "markdown",
   "metadata": {},
   "source": [
    "The next step is to get a compute the autocorrelation function (ACF)."
   ]
  },
  {
   "cell_type": "code",
   "execution_count": 26,
   "metadata": {},
   "outputs": [
    {
     "data": {
      "text/plain": [
       "[0.3907575496177549,\n",
       " -0.043153977712753186,\n",
       " -0.21239013821846525,\n",
       " -0.19192946111193251,\n",
       " -0.03363437156780032,\n",
       " -0.003424476859752053,\n",
       " 0.13515167697281535,\n",
       " 0.09922992990000125,\n",
       " 0.0642788374059558,\n",
       " 0.02943744504148429]"
      ]
     },
     "execution_count": 26,
     "metadata": {},
     "output_type": "execute_result"
    }
   ],
   "source": [
    "# Let's compute the autocorrelation function (ACF) from lag 0 to lag 10.\n",
    "[postwar.autocorr(k) for k in range(1,11)]"
   ]
  },
  {
   "cell_type": "markdown",
   "metadata": {},
   "source": [
    "What about a nice ACF or PACF plot like that available in R?  For this we need to import functions from Python's ***statsmodels*** package, which implements **R-style formulas**.  So to use one of Python's most powerful statistics packages, it really does help to know R!\n",
    "\n",
    "First we'll start with the `acf` and `pacf` functions which calculate the coefficients."
   ]
  },
  {
   "cell_type": "code",
   "execution_count": 27,
   "metadata": {},
   "outputs": [],
   "source": [
    "from statsmodels.tsa.stattools import acf, pacf"
   ]
  },
  {
   "cell_type": "code",
   "execution_count": 28,
   "metadata": {},
   "outputs": [
    {
     "name": "stderr",
     "output_type": "stream",
     "text": [
      "/Users/Seiko/anaconda3/lib/python3.7/site-packages/statsmodels/tsa/stattools.py:572: FutureWarning: fft=True will become the default in a future version of statsmodels. To suppress this warning, explicitly set fft=False.\n",
      "  FutureWarning\n"
     ]
    },
    {
     "data": {
      "text/plain": [
       "array([ 1.00000000e+00,  3.89837197e-01, -4.20392333e-02, -2.05230221e-01,\n",
       "       -1.84585706e-01, -2.96058205e-02, -7.68761328e-04,  1.10844516e-01,\n",
       "        8.14059582e-02,  5.32303639e-02,  2.77127747e-02,  2.70082450e-02,\n",
       "        1.81844473e-02, -3.07383741e-02, -3.42872055e-02,  8.99366211e-03,\n",
       "        5.65679294e-02,  3.39951812e-02, -1.69993204e-03, -6.96289282e-02,\n",
       "       -1.28431415e-01, -1.07718378e-01, -2.45819146e-02, -3.70652850e-03,\n",
       "       -2.33986740e-02, -6.54009330e-02, -1.10616254e-02,  7.58760359e-02,\n",
       "        9.04491534e-02,  8.55916790e-02, -8.31850695e-03, -1.05815675e-01,\n",
       "       -1.56593439e-01, -1.22145859e-01,  4.39151954e-03,  1.64901793e-02,\n",
       "       -5.59429117e-02, -8.38283830e-02, -2.87125093e-02,  6.17528038e-02,\n",
       "        4.29581847e-02])"
      ]
     },
     "execution_count": 28,
     "metadata": {},
     "output_type": "execute_result"
    }
   ],
   "source": [
    "acf(postwar)"
   ]
  },
  {
   "cell_type": "markdown",
   "metadata": {},
   "source": [
    "Notice that *statsmodels* does not give the exact same sample correlation coefficients as the `autocorr` function in *pandas*.  Recall that the *pandas* `autocorr` function calculated its sample means and sample variances are calculated individually on the relevant subseries.  On the other hand, the *statsmodels* `acf` function uses a simplified method which is generally preferred by time series analysts (see Chatfield and Xing pg. 30):\n",
    "$$r(k) = \\frac{\\sum_{t=1}^{N-k} (x_t - \\bar{x})(x_{t+k} - \\bar{x})}{\\sum_{t=1}^N (x_t - \\bar{x})^2}$$\n",
    "where\n",
    "$$\\bar{x} = \\frac{1}{N} \\sum_{t=1}^{N} x_t.$$\n",
    "\n",
    "Let's plot our acf coeffients."
   ]
  },
  {
   "cell_type": "code",
   "execution_count": 29,
   "metadata": {},
   "outputs": [
    {
     "data": {
      "text/plain": [
       "[<matplotlib.lines.Line2D at 0x125635a50>]"
      ]
     },
     "execution_count": 29,
     "metadata": {},
     "output_type": "execute_result"
    },
    {
     "data": {
      "image/png": "[encoded data removed]",
      "text/plain": [
       "<Figure size 432x288 with 1 Axes>"
      ]
     },
     "metadata": {
      "needs_background": "light"
     },
     "output_type": "display_data"
    }
   ],
   "source": [
    "import matplotlib.pyplot as plt # This is the traditional way to\n",
    "                                #alias the pyplot subpackage.\n",
    "plt.plot(acf(postwar))"
   ]
  },
  {
   "cell_type": "markdown",
   "metadata": {},
   "source": [
    "This is not such a great looking ACF plot.  It is hard to make out the important lag-1 and lag-2 correlation coefficients, and there are no confidence interval lines.  For this we can use *statsmodels* `plot_acf` function."
   ]
  },
  {
   "cell_type": "code",
   "execution_count": 30,
   "metadata": {},
   "outputs": [
    {
     "data": {
      "image/png": "[encoded data removed]",
      "text/plain": [
       "<Figure size 432x288 with 1 Axes>"
      ]
     },
     "execution_count": 30,
     "metadata": {},
     "output_type": "execute_result"
    },
    {
     "data": {
      "image/png": "[encoded data removed]",
      "text/plain": [
       "<Figure size 432x288 with 1 Axes>"
      ]
     },
     "metadata": {
      "needs_background": "light"
     },
     "output_type": "display_data"
    }
   ],
   "source": [
    "from statsmodels.graphics.tsaplots import plot_acf\n",
    "plot_acf(postwar)"
   ]
  },
  {
   "cell_type": "markdown",
   "metadata": {},
   "source": [
    "This plot is much earier to read.  We get confidence interval lines, and we can more easily read the off coefficients.\n",
    "\n",
    "But there is some goofy feature or bug where the ACF gets displayed twice (one output is by the `plot_acf` function, then the figure that is returned is plotted again.  To suppress this, you can put a semicolon at then end."
   ]
  },
  {
   "cell_type": "code",
   "execution_count": 31,
   "metadata": {},
   "outputs": [
    {
     "data": {
      "image/png": "[encoded data removed]",
      "text/plain": [
       "<Figure size 432x288 with 1 Axes>"
      ]
     },
     "metadata": {
      "needs_background": "light"
     },
     "output_type": "display_data"
    }
   ],
   "source": [
    "plot_acf(postwar);"
   ]
  },
  {
   "cell_type": "markdown",
   "metadata": {},
   "source": [
    "Only the lag-1 coefficient is statistically significant with 95% confidence, but the lag-3 and lag-4 coefficients also come close.  There also appears to be some vaguely sinusoidal behavior in the ACF coefficients.\n",
    "\n",
    "Let's also look at the PACF coefficents."
   ]
  },
  {
   "cell_type": "code",
   "execution_count": 32,
   "metadata": {},
   "outputs": [
    {
     "data": {
      "image/png": "[encoded data removed]",
      "text/plain": [
       "<Figure size 432x288 with 1 Axes>"
      ]
     },
     "metadata": {
      "needs_background": "light"
     },
     "output_type": "display_data"
    }
   ],
   "source": [
    "from statsmodels.graphics.tsaplots import plot_pacf\n",
    "plot_pacf(postwar);"
   ]
  },
  {
   "cell_type": "markdown",
   "metadata": {},
   "source": [
    "Given a high lag-1 ACF but nearly zero lag-2 ACF coefficient, it makes sense that the lag-2 PACF coefficient is negative (perhaps even statistically signifcantly so).\n",
    "\n",
    "Looking at our ACF and PACF plots, we probably would want to try an MA(1) model as well as AR(1) and AR(2) models.\n",
    "\n",
    "How to we fit MA and AR models in Python?"
   ]
  },
  {
   "cell_type": "code",
   "execution_count": 33,
   "metadata": {},
   "outputs": [
    {
     "name": "stderr",
     "output_type": "stream",
     "text": [
      "/Users/Seiko/anaconda3/lib/python3.7/site-packages/statsmodels/tsa/base/tsa_model.py:162: ValueWarning: No frequency information was provided, so inferred frequency A-DEC will be used.\n",
      "  % freq, ValueWarning)\n"
     ]
    },
    {
     "data": {
      "text/html": [
       "<table class=\"simpletable\">\n",
       "<caption>ARMA Model Results</caption>\n",
       "<tr>\n",
       "  <th>Dep. Variable:</th>    <td>Value Value</td>   <th>  No. Observations:  </th>    <td>76</td>   \n",
       "</tr>\n",
       "<tr>\n",
       "  <th>Model:</th>            <td>ARMA(0, 1)</td>    <th>  Log Likelihood     </th>  <td>105.729</td>\n",
       "</tr>\n",
       "<tr>\n",
       "  <th>Method:</th>             <td>css-mle</td>     <th>  S.D. of innovations</th>   <td>0.060</td> \n",
       "</tr>\n",
       "<tr>\n",
       "  <th>Date:</th>          <td>Tue, 09 Feb 2021</td> <th>  AIC                </th> <td>-205.459</td>\n",
       "</tr>\n",
       "<tr>\n",
       "  <th>Time:</th>              <td>16:09:40</td>     <th>  BIC                </th> <td>-198.466</td>\n",
       "</tr>\n",
       "<tr>\n",
       "  <th>Sample:</th>           <td>12-31-1945</td>    <th>  HQIC               </th> <td>-202.664</td>\n",
       "</tr>\n",
       "<tr>\n",
       "  <th></th>                 <td>- 12-31-2020</td>   <th>                     </th>     <td> </td>   \n",
       "</tr>\n",
       "</table>\n",
       "<table class=\"simpletable\">\n",
       "<tr>\n",
       "          <td></td>             <th>coef</th>     <th>std err</th>      <th>z</th>      <th>P>|z|</th>  <th>[0.025</th>    <th>0.975]</th>  \n",
       "</tr>\n",
       "<tr>\n",
       "  <th>const</th>             <td>    0.0241</td> <td>    0.010</td> <td>    2.404</td> <td> 0.016</td> <td>    0.004</td> <td>    0.044</td>\n",
       "</tr>\n",
       "<tr>\n",
       "  <th>ma.L1.Value Value</th> <td>    0.4594</td> <td>    0.106</td> <td>    4.318</td> <td> 0.000</td> <td>    0.251</td> <td>    0.668</td>\n",
       "</tr>\n",
       "</table>\n",
       "<table class=\"simpletable\">\n",
       "<caption>Roots</caption>\n",
       "<tr>\n",
       "    <td></td>   <th>            Real</th>  <th>         Imaginary</th> <th>         Modulus</th>  <th>        Frequency</th>\n",
       "</tr>\n",
       "<tr>\n",
       "  <th>MA.1</th> <td>          -2.1769</td> <td>          +0.0000j</td> <td>           2.1769</td> <td>           0.5000</td>\n",
       "</tr>\n",
       "</table>"
      ],
      "text/plain": [
       "<class 'statsmodels.iolib.summary.Summary'>\n",
       "\"\"\"\n",
       "                              ARMA Model Results                              \n",
       "==============================================================================\n",
       "Dep. Variable:            Value Value   No. Observations:                   76\n",
       "Model:                     ARMA(0, 1)   Log Likelihood                 105.729\n",
       "Method:                       css-mle   S.D. of innovations              0.060\n",
       "Date:                Tue, 09 Feb 2021   AIC                           -205.459\n",
       "Time:                        16:09:40   BIC                           -198.466\n",
       "Sample:                    12-31-1945   HQIC                          -202.664\n",
       "                         - 12-31-2020                                         \n",
       "=====================================================================================\n",
       "                        coef    std err          z      P>|z|      [0.025      0.975]\n",
       "-------------------------------------------------------------------------------------\n",
       "const                 0.0241      0.010      2.404      0.016       0.004       0.044\n",
       "ma.L1.Value Value     0.4594      0.106      4.318      0.000       0.251       0.668\n",
       "                                    Roots                                    \n",
       "=============================================================================\n",
       "                  Real          Imaginary           Modulus         Frequency\n",
       "-----------------------------------------------------------------------------\n",
       "MA.1           -2.1769           +0.0000j            2.1769            0.5000\n",
       "-----------------------------------------------------------------------------\n",
       "\"\"\""
      ]
     },
     "execution_count": 33,
     "metadata": {},
     "output_type": "execute_result"
    }
   ],
   "source": [
    "from statsmodels.tsa.arima_model import ARIMA\n",
    "# Let's set up, fit and print out results for an MA(1) model.\n",
    "ARIMA(postwar, order=(0,0,1)).fit().summary()"
   ]
  },
  {
   "cell_type": "markdown",
   "metadata": {},
   "source": [
    "Python is warning us because it doesn't know what to do with our date index.  We could just ignore the warning, but let's try to explicitly set the frequency of our time series to annual, so as to avoid thus warning message."
   ]
  },
  {
   "cell_type": "code",
   "execution_count": 34,
   "metadata": {},
   "outputs": [
    {
     "data": {
      "text/plain": [
       "Date\n",
       "1945-12-31    0.008502\n",
       "1946-12-31   -0.094253\n",
       "1947-12-31    0.083614\n",
       "1948-12-31    0.072196\n",
       "1949-12-31    0.224536\n",
       "Freq: A-DEC, Name: Value Value, dtype: float64"
      ]
     },
     "execution_count": 34,
     "metadata": {},
     "output_type": "execute_result"
    }
   ],
   "source": [
    "postwar = postwar.asfreq(\"A\")\n",
    "postwar.head()"
   ]
  },
  {
   "cell_type": "code",
   "execution_count": 35,
   "metadata": {},
   "outputs": [
    {
     "data": {
      "text/html": [
       "<table class=\"simpletable\">\n",
       "<caption>ARMA Model Results</caption>\n",
       "<tr>\n",
       "  <th>Dep. Variable:</th>    <td>Value Value</td>   <th>  No. Observations:  </th>    <td>76</td>   \n",
       "</tr>\n",
       "<tr>\n",
       "  <th>Model:</th>            <td>ARMA(0, 1)</td>    <th>  Log Likelihood     </th>  <td>105.729</td>\n",
       "</tr>\n",
       "<tr>\n",
       "  <th>Method:</th>             <td>css-mle</td>     <th>  S.D. of innovations</th>   <td>0.060</td> \n",
       "</tr>\n",
       "<tr>\n",
       "  <th>Date:</th>          <td>Tue, 09 Feb 2021</td> <th>  AIC                </th> <td>-205.459</td>\n",
       "</tr>\n",
       "<tr>\n",
       "  <th>Time:</th>              <td>16:09:40</td>     <th>  BIC                </th> <td>-198.466</td>\n",
       "</tr>\n",
       "<tr>\n",
       "  <th>Sample:</th>           <td>12-31-1945</td>    <th>  HQIC               </th> <td>-202.664</td>\n",
       "</tr>\n",
       "<tr>\n",
       "  <th></th>                 <td>- 12-31-2020</td>   <th>                     </th>     <td> </td>   \n",
       "</tr>\n",
       "</table>\n",
       "<table class=\"simpletable\">\n",
       "<tr>\n",
       "          <td></td>             <th>coef</th>     <th>std err</th>      <th>z</th>      <th>P>|z|</th>  <th>[0.025</th>    <th>0.975]</th>  \n",
       "</tr>\n",
       "<tr>\n",
       "  <th>const</th>             <td>    0.0241</td> <td>    0.010</td> <td>    2.404</td> <td> 0.016</td> <td>    0.004</td> <td>    0.044</td>\n",
       "</tr>\n",
       "<tr>\n",
       "  <th>ma.L1.Value Value</th> <td>    0.4594</td> <td>    0.106</td> <td>    4.318</td> <td> 0.000</td> <td>    0.251</td> <td>    0.668</td>\n",
       "</tr>\n",
       "</table>\n",
       "<table class=\"simpletable\">\n",
       "<caption>Roots</caption>\n",
       "<tr>\n",
       "    <td></td>   <th>            Real</th>  <th>         Imaginary</th> <th>         Modulus</th>  <th>        Frequency</th>\n",
       "</tr>\n",
       "<tr>\n",
       "  <th>MA.1</th> <td>          -2.1769</td> <td>          +0.0000j</td> <td>           2.1769</td> <td>           0.5000</td>\n",
       "</tr>\n",
       "</table>"
      ],
      "text/plain": [
       "<class 'statsmodels.iolib.summary.Summary'>\n",
       "\"\"\"\n",
       "                              ARMA Model Results                              \n",
       "==============================================================================\n",
       "Dep. Variable:            Value Value   No. Observations:                   76\n",
       "Model:                     ARMA(0, 1)   Log Likelihood                 105.729\n",
       "Method:                       css-mle   S.D. of innovations              0.060\n",
       "Date:                Tue, 09 Feb 2021   AIC                           -205.459\n",
       "Time:                        16:09:40   BIC                           -198.466\n",
       "Sample:                    12-31-1945   HQIC                          -202.664\n",
       "                         - 12-31-2020                                         \n",
       "=====================================================================================\n",
       "                        coef    std err          z      P>|z|      [0.025      0.975]\n",
       "-------------------------------------------------------------------------------------\n",
       "const                 0.0241      0.010      2.404      0.016       0.004       0.044\n",
       "ma.L1.Value Value     0.4594      0.106      4.318      0.000       0.251       0.668\n",
       "                                    Roots                                    \n",
       "=============================================================================\n",
       "                  Real          Imaginary           Modulus         Frequency\n",
       "-----------------------------------------------------------------------------\n",
       "MA.1           -2.1769           +0.0000j            2.1769            0.5000\n",
       "-----------------------------------------------------------------------------\n",
       "\"\"\""
      ]
     },
     "execution_count": 35,
     "metadata": {},
     "output_type": "execute_result"
    }
   ],
   "source": [
    "ARIMA(postwar, order=(0,0,1)).fit().summary()\n",
    "# We try again and this time no warning!"
   ]
  },
  {
   "cell_type": "markdown",
   "metadata": {},
   "source": [
    "The ***S.D. of innovations*** above is essentially the square root of the mean squared error (sigma^2) that would be given by R's arima function.  Here ***innovations*** is basically another time series word for the \"error\" or \"noise\" term $\\epsilon_t$.\n",
    "\n",
    "Let's now compare the MA(2) model."
   ]
  },
  {
   "cell_type": "code",
   "execution_count": 36,
   "metadata": {},
   "outputs": [
    {
     "data": {
      "text/html": [
       "<table class=\"simpletable\">\n",
       "<caption>ARMA Model Results</caption>\n",
       "<tr>\n",
       "  <th>Dep. Variable:</th>    <td>Value Value</td>   <th>  No. Observations:  </th>    <td>76</td>   \n",
       "</tr>\n",
       "<tr>\n",
       "  <th>Model:</th>            <td>ARMA(0, 2)</td>    <th>  Log Likelihood     </th>  <td>105.778</td>\n",
       "</tr>\n",
       "<tr>\n",
       "  <th>Method:</th>             <td>css-mle</td>     <th>  S.D. of innovations</th>   <td>0.060</td> \n",
       "</tr>\n",
       "<tr>\n",
       "  <th>Date:</th>          <td>Tue, 09 Feb 2021</td> <th>  AIC                </th> <td>-203.555</td>\n",
       "</tr>\n",
       "<tr>\n",
       "  <th>Time:</th>              <td>16:09:41</td>     <th>  BIC                </th> <td>-194.232</td>\n",
       "</tr>\n",
       "<tr>\n",
       "  <th>Sample:</th>           <td>12-31-1945</td>    <th>  HQIC               </th> <td>-199.829</td>\n",
       "</tr>\n",
       "<tr>\n",
       "  <th></th>                 <td>- 12-31-2020</td>   <th>                     </th>     <td> </td>   \n",
       "</tr>\n",
       "</table>\n",
       "<table class=\"simpletable\">\n",
       "<tr>\n",
       "          <td></td>             <th>coef</th>     <th>std err</th>      <th>z</th>      <th>P>|z|</th>  <th>[0.025</th>    <th>0.975]</th>  \n",
       "</tr>\n",
       "<tr>\n",
       "  <th>const</th>             <td>    0.0240</td> <td>    0.010</td> <td>    2.290</td> <td> 0.022</td> <td>    0.003</td> <td>    0.045</td>\n",
       "</tr>\n",
       "<tr>\n",
       "  <th>ma.L1.Value Value</th> <td>    0.4733</td> <td>    0.116</td> <td>    4.069</td> <td> 0.000</td> <td>    0.245</td> <td>    0.701</td>\n",
       "</tr>\n",
       "<tr>\n",
       "  <th>ma.L2.Value Value</th> <td>    0.0537</td> <td>    0.172</td> <td>    0.312</td> <td> 0.755</td> <td>   -0.283</td> <td>    0.391</td>\n",
       "</tr>\n",
       "</table>\n",
       "<table class=\"simpletable\">\n",
       "<caption>Roots</caption>\n",
       "<tr>\n",
       "    <td></td>   <th>            Real</th>  <th>         Imaginary</th> <th>         Modulus</th>  <th>        Frequency</th>\n",
       "</tr>\n",
       "<tr>\n",
       "  <th>MA.1</th> <td>          -3.5158</td> <td>          +0.0000j</td> <td>           3.5158</td> <td>           0.5000</td>\n",
       "</tr>\n",
       "<tr>\n",
       "  <th>MA.2</th> <td>          -5.2943</td> <td>          +0.0000j</td> <td>           5.2943</td> <td>           0.5000</td>\n",
       "</tr>\n",
       "</table>"
      ],
      "text/plain": [
       "<class 'statsmodels.iolib.summary.Summary'>\n",
       "\"\"\"\n",
       "                              ARMA Model Results                              \n",
       "==============================================================================\n",
       "Dep. Variable:            Value Value   No. Observations:                   76\n",
       "Model:                     ARMA(0, 2)   Log Likelihood                 105.778\n",
       "Method:                       css-mle   S.D. of innovations              0.060\n",
       "Date:                Tue, 09 Feb 2021   AIC                           -203.555\n",
       "Time:                        16:09:41   BIC                           -194.232\n",
       "Sample:                    12-31-1945   HQIC                          -199.829\n",
       "                         - 12-31-2020                                         \n",
       "=====================================================================================\n",
       "                        coef    std err          z      P>|z|      [0.025      0.975]\n",
       "-------------------------------------------------------------------------------------\n",
       "const                 0.0240      0.010      2.290      0.022       0.003       0.045\n",
       "ma.L1.Value Value     0.4733      0.116      4.069      0.000       0.245       0.701\n",
       "ma.L2.Value Value     0.0537      0.172      0.312      0.755      -0.283       0.391\n",
       "                                    Roots                                    \n",
       "=============================================================================\n",
       "                  Real          Imaginary           Modulus         Frequency\n",
       "-----------------------------------------------------------------------------\n",
       "MA.1           -3.5158           +0.0000j            3.5158            0.5000\n",
       "MA.2           -5.2943           +0.0000j            5.2943            0.5000\n",
       "-----------------------------------------------------------------------------\n",
       "\"\"\""
      ]
     },
     "execution_count": 36,
     "metadata": {},
     "output_type": "execute_result"
    }
   ],
   "source": [
    "ARIMA(postwar, order=(0,0,2)).fit().summary()  # MA(2)"
   ]
  },
  {
   "cell_type": "markdown",
   "metadata": {},
   "source": [
    "There is no improvement for MA(2) of the S.D. of innovations (which I will call ***RMSE*** or root mean squared error), so the addition of one more parameter actually makes the ***AIC*** (***Aikake information criterion***) and the ***BIC*** (***Bayesian information criterion***, pg. 98 of Chatfield and Xing) worse (less negative).  This is not surprising since the lag-2 ACF coefficient was close to zero and not statistically significant.\n",
    "\n",
    "Now let's try the AR(1) and AR(2) models."
   ]
  },
  {
   "cell_type": "code",
   "execution_count": 37,
   "metadata": {},
   "outputs": [
    {
     "data": {
      "text/html": [
       "<table class=\"simpletable\">\n",
       "<caption>ARMA Model Results</caption>\n",
       "<tr>\n",
       "  <th>Dep. Variable:</th>    <td>Value Value</td>   <th>  No. Observations:  </th>    <td>76</td>   \n",
       "</tr>\n",
       "<tr>\n",
       "  <th>Model:</th>            <td>ARMA(1, 0)</td>    <th>  Log Likelihood     </th>  <td>104.411</td>\n",
       "</tr>\n",
       "<tr>\n",
       "  <th>Method:</th>             <td>css-mle</td>     <th>  S.D. of innovations</th>   <td>0.061</td> \n",
       "</tr>\n",
       "<tr>\n",
       "  <th>Date:</th>          <td>Tue, 09 Feb 2021</td> <th>  AIC                </th> <td>-202.822</td>\n",
       "</tr>\n",
       "<tr>\n",
       "  <th>Time:</th>              <td>16:09:41</td>     <th>  BIC                </th> <td>-195.830</td>\n",
       "</tr>\n",
       "<tr>\n",
       "  <th>Sample:</th>           <td>12-31-1945</td>    <th>  HQIC               </th> <td>-200.028</td>\n",
       "</tr>\n",
       "<tr>\n",
       "  <th></th>                 <td>- 12-31-2020</td>   <th>                     </th>     <td> </td>   \n",
       "</tr>\n",
       "</table>\n",
       "<table class=\"simpletable\">\n",
       "<tr>\n",
       "          <td></td>             <th>coef</th>     <th>std err</th>      <th>z</th>      <th>P>|z|</th>  <th>[0.025</th>    <th>0.975]</th>  \n",
       "</tr>\n",
       "<tr>\n",
       "  <th>const</th>             <td>    0.0236</td> <td>    0.011</td> <td>    2.081</td> <td> 0.037</td> <td>    0.001</td> <td>    0.046</td>\n",
       "</tr>\n",
       "<tr>\n",
       "  <th>ar.L1.Value Value</th> <td>    0.3866</td> <td>    0.105</td> <td>    3.685</td> <td> 0.000</td> <td>    0.181</td> <td>    0.592</td>\n",
       "</tr>\n",
       "</table>\n",
       "<table class=\"simpletable\">\n",
       "<caption>Roots</caption>\n",
       "<tr>\n",
       "    <td></td>   <th>            Real</th>  <th>         Imaginary</th> <th>         Modulus</th>  <th>        Frequency</th>\n",
       "</tr>\n",
       "<tr>\n",
       "  <th>AR.1</th> <td>           2.5863</td> <td>          +0.0000j</td> <td>           2.5863</td> <td>           0.0000</td>\n",
       "</tr>\n",
       "</table>"
      ],
      "text/plain": [
       "<class 'statsmodels.iolib.summary.Summary'>\n",
       "\"\"\"\n",
       "                              ARMA Model Results                              \n",
       "==============================================================================\n",
       "Dep. Variable:            Value Value   No. Observations:                   76\n",
       "Model:                     ARMA(1, 0)   Log Likelihood                 104.411\n",
       "Method:                       css-mle   S.D. of innovations              0.061\n",
       "Date:                Tue, 09 Feb 2021   AIC                           -202.822\n",
       "Time:                        16:09:41   BIC                           -195.830\n",
       "Sample:                    12-31-1945   HQIC                          -200.028\n",
       "                         - 12-31-2020                                         \n",
       "=====================================================================================\n",
       "                        coef    std err          z      P>|z|      [0.025      0.975]\n",
       "-------------------------------------------------------------------------------------\n",
       "const                 0.0236      0.011      2.081      0.037       0.001       0.046\n",
       "ar.L1.Value Value     0.3866      0.105      3.685      0.000       0.181       0.592\n",
       "                                    Roots                                    \n",
       "=============================================================================\n",
       "                  Real          Imaginary           Modulus         Frequency\n",
       "-----------------------------------------------------------------------------\n",
       "AR.1            2.5863           +0.0000j            2.5863            0.0000\n",
       "-----------------------------------------------------------------------------\n",
       "\"\"\""
      ]
     },
     "execution_count": 37,
     "metadata": {},
     "output_type": "execute_result"
    }
   ],
   "source": [
    "ARIMA(postwar, order=(1,0,0)).fit().summary()  # AR(1)"
   ]
  },
  {
   "cell_type": "code",
   "execution_count": 38,
   "metadata": {},
   "outputs": [
    {
     "data": {
      "text/html": [
       "<table class=\"simpletable\">\n",
       "<caption>ARMA Model Results</caption>\n",
       "<tr>\n",
       "  <th>Dep. Variable:</th>    <td>Value Value</td>   <th>  No. Observations:  </th>    <td>76</td>   \n",
       "</tr>\n",
       "<tr>\n",
       "  <th>Model:</th>            <td>ARMA(2, 0)</td>    <th>  Log Likelihood     </th>  <td>106.526</td>\n",
       "</tr>\n",
       "<tr>\n",
       "  <th>Method:</th>             <td>css-mle</td>     <th>  S.D. of innovations</th>   <td>0.059</td> \n",
       "</tr>\n",
       "<tr>\n",
       "  <th>Date:</th>          <td>Tue, 09 Feb 2021</td> <th>  AIC                </th> <td>-205.051</td>\n",
       "</tr>\n",
       "<tr>\n",
       "  <th>Time:</th>              <td>16:09:41</td>     <th>  BIC                </th> <td>-195.728</td>\n",
       "</tr>\n",
       "<tr>\n",
       "  <th>Sample:</th>           <td>12-31-1945</td>    <th>  HQIC               </th> <td>-201.325</td>\n",
       "</tr>\n",
       "<tr>\n",
       "  <th></th>                 <td>- 12-31-2020</td>   <th>                     </th>     <td> </td>   \n",
       "</tr>\n",
       "</table>\n",
       "<table class=\"simpletable\">\n",
       "<tr>\n",
       "          <td></td>             <th>coef</th>     <th>std err</th>      <th>z</th>      <th>P>|z|</th>  <th>[0.025</th>    <th>0.975]</th>  \n",
       "</tr>\n",
       "<tr>\n",
       "  <th>const</th>             <td>    0.0242</td> <td>    0.009</td> <td>    2.680</td> <td> 0.007</td> <td>    0.006</td> <td>    0.042</td>\n",
       "</tr>\n",
       "<tr>\n",
       "  <th>ar.L1.Value Value</th> <td>    0.4799</td> <td>    0.112</td> <td>    4.303</td> <td> 0.000</td> <td>    0.261</td> <td>    0.699</td>\n",
       "</tr>\n",
       "<tr>\n",
       "  <th>ar.L2.Value Value</th> <td>   -0.2363</td> <td>    0.113</td> <td>   -2.089</td> <td> 0.037</td> <td>   -0.458</td> <td>   -0.015</td>\n",
       "</tr>\n",
       "</table>\n",
       "<table class=\"simpletable\">\n",
       "<caption>Roots</caption>\n",
       "<tr>\n",
       "    <td></td>   <th>            Real</th>  <th>         Imaginary</th> <th>         Modulus</th>  <th>        Frequency</th>\n",
       "</tr>\n",
       "<tr>\n",
       "  <th>AR.1</th> <td>           1.0155</td> <td>          -1.7891j</td> <td>           2.0572</td> <td>          -0.1678</td>\n",
       "</tr>\n",
       "<tr>\n",
       "  <th>AR.2</th> <td>           1.0155</td> <td>          +1.7891j</td> <td>           2.0572</td> <td>           0.1678</td>\n",
       "</tr>\n",
       "</table>"
      ],
      "text/plain": [
       "<class 'statsmodels.iolib.summary.Summary'>\n",
       "\"\"\"\n",
       "                              ARMA Model Results                              \n",
       "==============================================================================\n",
       "Dep. Variable:            Value Value   No. Observations:                   76\n",
       "Model:                     ARMA(2, 0)   Log Likelihood                 106.526\n",
       "Method:                       css-mle   S.D. of innovations              0.059\n",
       "Date:                Tue, 09 Feb 2021   AIC                           -205.051\n",
       "Time:                        16:09:41   BIC                           -195.728\n",
       "Sample:                    12-31-1945   HQIC                          -201.325\n",
       "                         - 12-31-2020                                         \n",
       "=====================================================================================\n",
       "                        coef    std err          z      P>|z|      [0.025      0.975]\n",
       "-------------------------------------------------------------------------------------\n",
       "const                 0.0242      0.009      2.680      0.007       0.006       0.042\n",
       "ar.L1.Value Value     0.4799      0.112      4.303      0.000       0.261       0.699\n",
       "ar.L2.Value Value    -0.2363      0.113     -2.089      0.037      -0.458      -0.015\n",
       "                                    Roots                                    \n",
       "=============================================================================\n",
       "                  Real          Imaginary           Modulus         Frequency\n",
       "-----------------------------------------------------------------------------\n",
       "AR.1            1.0155           -1.7891j            2.0572           -0.1678\n",
       "AR.2            1.0155           +1.7891j            2.0572            0.1678\n",
       "-----------------------------------------------------------------------------\n",
       "\"\"\""
      ]
     },
     "execution_count": 38,
     "metadata": {},
     "output_type": "execute_result"
    }
   ],
   "source": [
    "ARIMA(postwar, order=(2,0,0)).fit().summary()  # AR(2)"
   ]
  },
  {
   "cell_type": "markdown",
   "metadata": {},
   "source": [
    "The AR(1) peforms worse in terms of RMSE than the MA(1) or MA(2) models.  This is not surprising since an AR(1) with an approximate 0.4 lag-1 correlation coefficient will give an approximate 0.16 lag-2 correlation coefficient, whereas the actual sample lag-2 corrlation coefficient is approximately zero.\n",
    "\n",
    "On the other hand, the AR(2) has a better RMSE than either the AR(1) or the MA(1) or MA(2) models.  This also is not surprsing because the PACF had a statistically significant lag-2 coefficient.\n",
    "\n",
    "But althought the AR(2) has a better RMSE than MA(1), we should also compare their AICs and BICs since MA(1) has less parameters.  And actually the MA(1) model has better (more negative) AIC's and BIC's, so on that basis we would choose MA(1) over AR(2).\n",
    "\n",
    "Finally, for completeness let's check the ARMA(1,1) model, which was our favorite model last time."
   ]
  },
  {
   "cell_type": "code",
   "execution_count": 39,
   "metadata": {},
   "outputs": [
    {
     "data": {
      "text/html": [
       "<table class=\"simpletable\">\n",
       "<caption>ARMA Model Results</caption>\n",
       "<tr>\n",
       "  <th>Dep. Variable:</th>    <td>Value Value</td>   <th>  No. Observations:  </th>    <td>76</td>   \n",
       "</tr>\n",
       "<tr>\n",
       "  <th>Model:</th>            <td>ARMA(1, 1)</td>    <th>  Log Likelihood     </th>  <td>105.759</td>\n",
       "</tr>\n",
       "<tr>\n",
       "  <th>Method:</th>             <td>css-mle</td>     <th>  S.D. of innovations</th>   <td>0.060</td> \n",
       "</tr>\n",
       "<tr>\n",
       "  <th>Date:</th>          <td>Tue, 09 Feb 2021</td> <th>  AIC                </th> <td>-203.519</td>\n",
       "</tr>\n",
       "<tr>\n",
       "  <th>Time:</th>              <td>16:09:41</td>     <th>  BIC                </th> <td>-194.196</td>\n",
       "</tr>\n",
       "<tr>\n",
       "  <th>Sample:</th>           <td>12-31-1945</td>    <th>  HQIC               </th> <td>-199.793</td>\n",
       "</tr>\n",
       "<tr>\n",
       "  <th></th>                 <td>- 12-31-2020</td>   <th>                     </th>     <td> </td>   \n",
       "</tr>\n",
       "</table>\n",
       "<table class=\"simpletable\">\n",
       "<tr>\n",
       "          <td></td>             <th>coef</th>     <th>std err</th>      <th>z</th>      <th>P>|z|</th>  <th>[0.025</th>    <th>0.975]</th>  \n",
       "</tr>\n",
       "<tr>\n",
       "  <th>const</th>             <td>    0.0240</td> <td>    0.010</td> <td>    2.328</td> <td> 0.020</td> <td>    0.004</td> <td>    0.044</td>\n",
       "</tr>\n",
       "<tr>\n",
       "  <th>ar.L1.Value Value</th> <td>    0.0698</td> <td>    0.273</td> <td>    0.256</td> <td> 0.798</td> <td>   -0.465</td> <td>    0.605</td>\n",
       "</tr>\n",
       "<tr>\n",
       "  <th>ma.L1.Value Value</th> <td>    0.3992</td> <td>    0.260</td> <td>    1.535</td> <td> 0.125</td> <td>   -0.111</td> <td>    0.909</td>\n",
       "</tr>\n",
       "</table>\n",
       "<table class=\"simpletable\">\n",
       "<caption>Roots</caption>\n",
       "<tr>\n",
       "    <td></td>   <th>            Real</th>  <th>         Imaginary</th> <th>         Modulus</th>  <th>        Frequency</th>\n",
       "</tr>\n",
       "<tr>\n",
       "  <th>AR.1</th> <td>          14.3325</td> <td>          +0.0000j</td> <td>          14.3325</td> <td>           0.0000</td>\n",
       "</tr>\n",
       "<tr>\n",
       "  <th>MA.1</th> <td>          -2.5049</td> <td>          +0.0000j</td> <td>           2.5049</td> <td>           0.5000</td>\n",
       "</tr>\n",
       "</table>"
      ],
      "text/plain": [
       "<class 'statsmodels.iolib.summary.Summary'>\n",
       "\"\"\"\n",
       "                              ARMA Model Results                              \n",
       "==============================================================================\n",
       "Dep. Variable:            Value Value   No. Observations:                   76\n",
       "Model:                     ARMA(1, 1)   Log Likelihood                 105.759\n",
       "Method:                       css-mle   S.D. of innovations              0.060\n",
       "Date:                Tue, 09 Feb 2021   AIC                           -203.519\n",
       "Time:                        16:09:41   BIC                           -194.196\n",
       "Sample:                    12-31-1945   HQIC                          -199.793\n",
       "                         - 12-31-2020                                         \n",
       "=====================================================================================\n",
       "                        coef    std err          z      P>|z|      [0.025      0.975]\n",
       "-------------------------------------------------------------------------------------\n",
       "const                 0.0240      0.010      2.328      0.020       0.004       0.044\n",
       "ar.L1.Value Value     0.0698      0.273      0.256      0.798      -0.465       0.605\n",
       "ma.L1.Value Value     0.3992      0.260      1.535      0.125      -0.111       0.909\n",
       "                                    Roots                                    \n",
       "=============================================================================\n",
       "                  Real          Imaginary           Modulus         Frequency\n",
       "-----------------------------------------------------------------------------\n",
       "AR.1           14.3325           +0.0000j           14.3325            0.0000\n",
       "MA.1           -2.5049           +0.0000j            2.5049            0.5000\n",
       "-----------------------------------------------------------------------------\n",
       "\"\"\""
      ]
     },
     "execution_count": 39,
     "metadata": {},
     "output_type": "execute_result"
    }
   ],
   "source": [
    "ARIMA(postwar, order=(1,0,1)).fit().summary()  # ARMA(1,1)"
   ]
  },
  {
   "cell_type": "markdown",
   "metadata": {},
   "source": [
    "This is no improvement in RMSE compared to MA(1) and is worse than AR(2), and is worse than both also in terms of the AIC and BIC.  This again is not surprising since the ACF of an ARMA(1,1) is exponentially decaying, whereas we want the ACF to drop to zero, and maybe even be negative for lags 3 and 4."
   ]
  },
  {
   "cell_type": "markdown",
   "metadata": {},
   "source": [
    "# The backshift operator"
   ]
  },
  {
   "cell_type": "markdown",
   "metadata": {},
   "source": [
    "It is convenient to introduce the ***backshift operator B***, defined as\n",
    "$$BX_t = X_{t-1}.$$\n",
    "Sometimes this is also called the ***lag operator*** and is denoted ***L***.\n",
    "\n",
    "It is best to think of the backshift operator as acting on the entire series.\n",
    "\n",
    "We can apply the backshift operator successively, for example\n",
    "$$B^2 X_t = B(BX_t)  =BX_{t-1} = X_{t-2}$$\n",
    "and more generally\n",
    "$$B^k X_t = X_{t-k}.$$\n",
    "\n",
    "The backshift operator has an inverse $B^{-1}$ defined as\n",
    "$$B^{-1} X_t = X_{t+1}.$$\n",
    "\n",
    "The differencing operator $\\nabla$ can be written in terms of the backshift operator as $1-B$:\n",
    "$$\\nabla X_t = X_t - X_{t-1} = X_t - BX_t = (1-B)X_t.$$\n",
    "\n"
   ]
  },
  {
   "cell_type": "markdown",
   "metadata": {},
   "source": [
    "# A closer look at the AR(1) process."
   ]
  },
  {
   "cell_type": "markdown",
   "metadata": {},
   "source": [
    "The AR(1) process is defined as\n",
    "$$X_t = c + \\alpha X_{t-1} + \\epsilon_t.$$\n",
    "\n",
    "Since the constant $c$ does not effect variance, covariance or correlations, without loss of generality let's assume that $c=0$.  Then we can have\n",
    "$$X_t = \\alpha X_{t-1} + \\epsilon_t$$\n",
    "or in terms of the backshift operator\n",
    "$$(1 - \\alpha B) X_t = \\epsilon_t.$$\n",
    "\n",
    "If $|\\alpha| < 1$, then the operator $1 - \\alpha B$ has an inverse given by\n",
    "$$1 + \\alpha B + \\alpha^2 B^2 + \\cdots.$$\n",
    "\n",
    "Therefore we can rewrite the AR(1) process as\n",
    "\\begin{align}\n",
    "X_t &= (1- \\alpha B)^{-1} \\epsilon_t\\\\\n",
    "&= (1 + \\alpha B + \\alpha^2 B^2 + \\cdots) \\epsilon_t\\\\\n",
    "&= \\epsilon_t + \\alpha B \\epsilon_t + \\alpha^2 B^2 \\epsilon_t + \\cdots\\\\\n",
    "&= \\epsilon_t + \\alpha \\epsilon_{t-1} + \\alpha^2 \\epsilon_{t-2} + \\cdots\n",
    "\\end{align}\n",
    "as we discussed previously.  So we can think on an AR(1) process as an **M($\\infty$) process** with exponentially decreasing coefficients."
   ]
  },
  {
   "cell_type": "markdown",
   "metadata": {},
   "source": [
    "# A closer look at the AR(2) process"
   ]
  },
  {
   "cell_type": "markdown",
   "metadata": {},
   "source": [
    "When we introduced the general MA($q$) process, we had an explicit formula for the ACF function:\n",
    "$$\\rho(k) = \\begin{cases}\n",
    "\\frac{\\beta_0 \\beta_k + \\beta_1 \\beta_{k+1} + \\cdots + \\beta_{q-k} \\beta_q}{\\beta_0^2 + \\beta_1^2 + \\cdots + \\beta_q^2} & \\text{if } 0 \\leq k \\leq q, \\\\\n",
    "0 &  \\text{if } k > q.\\\\\n",
    "\\end{cases}$$\n",
    "What about the general AR($p$) process?  Or the general ARMA($p,q$)?  Let's start with the AR(2) process,\n",
    "$$X_t = c + \\alpha_1 X_{t-1} + \\alpha_2 X_{t-2} + \\epsilon_t.$$\n",
    "\n",
    "Since the constant $c$ does not affect the correlations, without loss of generality we can assume that $c=0$ and write\n",
    "$$X_t = \\alpha_1 X_{t-1} + \\alpha_2 X_{t-2} + \\epsilon_t.$$\n",
    "\n",
    "Using the backshift operator we can rewrite the AR(2) process as:\n",
    "$$X_t = \\alpha_1 BX_t + \\alpha_2 B^2X_t + \\epsilon_t.$$\n",
    "\n",
    "We can rewrite this as\n",
    "$$(1 - \\alpha_1 B - \\alpha_2 B^2) X_t = \\epsilon_t,$$\n",
    "or\n",
    "$$X_t = (1 - \\alpha_1 B - \\alpha_2 B^2)^{-1} \\epsilon_t.$$\n",
    "\n",
    "Let $\\pi_1, \\pi_2$ be the **roots** of the quadratic equation $y^2 - \\alpha_1 y -\\alpha_2$.  Then $1 - \\alpha_1 B - \\alpha_2 B^2$ factors as $(1 - \\pi_1 B)(1 - \\pi_2 B)$.\n",
    "\n",
    "Then we get\n",
    "$$X_t = (1 - \\pi_1 B)^{-1} (1 - \\pi_2 B)^{-1} \\epsilon_t.$$\n",
    "\n",
    "This only makes sense if $|\\pi_1|$ and $|\\pi_2|$ are less than 1, i.e. within the complex unit circle, and this is a necessary and sufficient condition that the AR(2) process is stationary.\n",
    "\n",
    "Note that the condition that the roots of $y^2 - \\alpha_1 y -\\alpha_2$ lie within the unit circle is equivalent to the condition that the roots $1 - \\alpha_1 z - \\alpha_2 z^2$ lie ***outside*** the unit circle.\n",
    "\n",
    "In other words, if we treat the operator polynomial $1 - \\alpha_1 B - \\alpha_2 B^2$ as a usual polynomial, then the **AR(2) process is stationary if and only if the roots of $1 - \\alpha_1 B - \\alpha_2 B^2$ like outside the complex unit circle.**\n",
    "\n",
    "If the AR(2) process is indeed stationary, then there are two kinds of behavior that are possible:  If the two roots are real, then the ACF will decay exponentially to zero (similarly to the AR(1) case).  But if the two roots are complex conjugates, then the ACF will have sinusoidal decay.  See Chatfield and Xing pg. 57-59 for more information.\n",
    "\n",
    "Let's consider again the equation\n",
    "$$X_t = \\alpha_1 X_{t-1} + \\alpha_2 X_{t-2} + \\epsilon_t.$$\n",
    "If we know $X_t$ to be stationary, then we can take covariances of the above equation with $X_{t-1}$ to get\n",
    "$$\\gamma(1) = \\alpha_1 \\gamma(0) + \\alpha_2 \\gamma(1)$$\n",
    "since $\\gamma(1) = \\gamma(-1)$.\n",
    "We can solve for lag-1 covariance $\\gamma(1)$ to get\n",
    "$$\\gamma(1) = \\frac{\\alpha_1}{1-\\alpha_2}\\gamma(0)$$\n",
    "and if we divide by variance $\\gamma(0)$ we get lag-1 correlation\n",
    "$$\\rho(1) = \\frac{\\alpha_1}{1 - \\alpha_2}.$$\n",
    "\n",
    "We can also take covariance with $X_{t-k}$ and then divide by variance $\\gamma(0)$ to get the lag-$k$ correlation coefficient\n",
    "$$\\rho(k) = \\alpha_1 \\rho(k-1) + \\alpha_2 \\rho(k-2).$$\n",
    "\n",
    "From this we can recursively calculate further correlation coefficients, e.g.\n",
    "$$\\rho(2) = \\frac{\\alpha_1^2}{1 - \\alpha_2} + \\alpha_2.$$\n",
    "\n",
    "**Example.**  Let's consider the AR(2) model that we fit above:\n",
    "$$X_t = 0.0247 + 0.4824 X_{t-1} - 0.2329 X_{t-2} + \\epsilon_t.$$\n",
    "\n",
    "The equation $y^2 - 0.4824 y + 0.2329$ has roots\n",
    "$$\\pi_{1,2} = \\frac{0.4824 \\pm \\sqrt{.4824^2 - 4 \\times 0.2329}}{2} = 0.2412 \\pm 0.8360 i$$\n",
    "which are complex conjugates lying within the unit circle, so we should get sinusoidally decaying ACF coefficients.\n",
    "\n",
    "Let's also calculate the first few ACF coefficients of the fitted AR(2) model.\n",
    "$$\\rho(1) = \\frac{0.4824}{1 + 0.2329} = 0.3913,$$ which closely mathces the sample lag-1 coefficient 0.3951.\n",
    "$$\\rho(2) = 0.4824 \\times 0.3913 - 0.2329 = -0.0441,$$ which is close to the sample lag-2 coefficient -0.0381.\n",
    "$$\\rho(3) = 0.4824 \\times -0.0441 - 0.2329 \\times 0.3913 = -0.1124,$$\n",
    "which is not too far from -0.2048.\n",
    "Of course, as we go further out, the fitted model ACF will diverge from the sample ACF.\n"
   ]
  },
  {
   "cell_type": "markdown",
   "metadata": {},
   "source": [
    "# The general AR($p$) process"
   ]
  },
  {
   "cell_type": "markdown",
   "metadata": {},
   "source": [
    "Consider the AR($p$) process\n",
    "$$X_t = \\alpha_1 X_{t-1} + \\alpha_2 X_{t-2} + \\cdots + \\alpha_p X_{t-p} + \\epsilon_t$$\n",
    "which we can write as\n",
    "$$\\phi(B) X_t = \\epsilon_t$$\n",
    "where\n",
    "$$\\phi(B) = 1 - \\alpha_1 B - \\alpha_2 B^2 - \\cdots - \\alpha_p B^p.$$\n",
    "**If the roots of the polynomial $\\phi(B)$ all lie outside the unit circle, then the AR($p$) process is stationary.**\n",
    "\n",
    "Moreover, we can write the AR($p$) process as\n",
    "$$X_t = \\phi(B)^{-1} \\epsilon_t$$\n",
    "which takes the form of an MA($\\infty$) process."
   ]
  },
  {
   "cell_type": "markdown",
   "metadata": {},
   "source": [
    "# The general ARMA($p,q$) process"
   ]
  },
  {
   "cell_type": "markdown",
   "metadata": {},
   "source": [
    "Consider the ARMA($p,q$) process\n",
    "$$X_t = \\alpha_1 X_{t-1} + \\cdots + \\alpha_p X_{t-p} + \\epsilon_t + \\beta_1 \\epsilon_{t-1}+ \\cdots + \\beta_q \\epsilon_{t-q}$$\n",
    "which we can write as\n",
    "$$\\phi(B) X_t = \\theta(B) \\epsilon_t$$\n",
    "where\n",
    "$$\\phi(B) = 1 - \\alpha_1 B - \\alpha_2 B^2 - \\cdots - \\alpha_p B^p$$\n",
    "and\n",
    "$$\\theta(B) = 1 + \\beta_1 B + \\beta_2 B^2 + \\cdots + \\beta_q B^q$$\n",
    "**If the roots of the polynomial $\\phi(B)$ all lie outside the unit circle, then the ARMA($p,q$) process is stationary.**\n",
    "\n",
    "Moreover, we can write the ARMA($p,q$) process as\n",
    "$$X_t = \\frac{\\theta(B)}{\\phi(B)} \\epsilon_t$$\n",
    "which takes the form of an MA($\\infty$) process."
   ]
  },
  {
   "cell_type": "markdown",
   "metadata": {},
   "source": [
    "# The ARIMA($p,d,q$) process"
   ]
  },
  {
   "cell_type": "markdown",
   "metadata": {},
   "source": [
    "As we have seen, we often have to take differences\n",
    "$$\\nabla X_t = (1-B) X_t = X_t - X_{t-1}$$\n",
    "to tranform a time series such as a random walk into a stationary series.\n",
    "\n",
    "In rare cases, we may have to take differences more than once, such as second order differencing:\n",
    "$$\\nabla^2 X_t = (1-B)^2 X_t = X_t - 2 X_{t-1} + X_{t-2}.$$\n",
    "\n",
    "More generally, if we do $d$-order differencing, we hope to arrive at a stationary series\n",
    "$$W(t) = (1-B)^d X_t$$\n",
    "which we can model as an ARMA($p,q$) process\n",
    "$$ \\phi(B) W(t) = \\theta(B)\\epsilon_t.$$\n",
    "\n",
    "Therefore we get\n",
    "$$(1-B)^d \\phi(B) X_t = \\theta(B) \\epsilon_t.$$\n",
    "\n",
    "We call such an $X_t$ an **integated ARMA** or **ARIMA** process of **order $(p,d,q)$**."
   ]
  },
  {
   "cell_type": "code",
   "execution_count": null,
   "metadata": {},
   "outputs": [],
   "source": []
  }
 ],
 "metadata": {
  "kernelspec": {
   "display_name": "Python 3",
   "language": "python",
   "name": "python3"
  },
  "language_info": {
   "codemirror_mode": {
    "name": "ipython",
    "version": 3
   },
   "file_extension": ".py",
   "mimetype": "text/x-python",
   "name": "python",
   "nbconvert_exporter": "python",
   "pygments_lexer": "ipython3",
   "version": "3.7.6"
  }
 },
 "nbformat": 4,
 "nbformat_minor": 2
}
